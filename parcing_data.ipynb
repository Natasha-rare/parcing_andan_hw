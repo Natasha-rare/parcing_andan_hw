{
 "cells": [
  {
   "cell_type": "code",
   "execution_count": 1,
   "metadata": {},
   "outputs": [],
   "source": [
    "import urllib.request\n",
    "import requests\n",
    "from bs4 import BeautifulSoup\n",
    "import pandas as pd\n",
    "import numpy as np"
   ]
  },
  {
   "cell_type": "markdown",
   "metadata": {},
   "source": [
    "Парсим данные вот отсюда https://www.avito.ru/moskva/avtomobili?p=1&radius=0&searchRadius=0\n"
   ]
  },
  {
   "cell_type": "code",
   "execution_count": null,
   "metadata": {},
   "outputs": [],
   "source": [
    "def get_information(page=1):\n",
    "    url = f\"https://www.avito.ru/moskva/avtomobili?p={page}&radius=0&searchRadius=0\"\n",
    "\n",
    "    response = requests.get(url)\n",
    "    # html_content = response.text\n",
    "\n",
    "    soup = BeautifulSoup(response.content, 'html.parser')\n",
    "\n",
    "    # Find all divs that contain car information\n",
    "    car_divs = soup.find_all('div', class_='iva-item-content-rejJg')\n",
    "    for car_div in car_divs:\n",
    "    # Extract title\n",
    "        title_elem = car_div.find('h3', class_='styles-module-root-GKtmM')\n",
    "        title = title_elem.text.strip() if title_elem else 'N/A'\n",
    "        \n",
    "        # Extract price\n",
    "        price_elem = car_div.find('span', class_='price-root-RA1pj')\n",
    "        price = price_elem.text.strip() if price_elem else 'N/A'\n",
    "        \n",
    "        # Extract link to detailed page\n",
    "        link_elem = car_div.find('a', class_='styles-module-root-YeOVk')\n",
    "        car_link = link_elem['href'] if link_elem else None\n",
    "        \n",
    "        # Print or process the extracted details\n",
    "        print(f\"Title: {title}\")\n",
    "        print(f\"Price: {price}\")\n",
    "        print(f\"Link: {car_link}\")\n",
    "\n",
    "        if car_link:\n",
    "            car_response = requests.get(f\"https://www.avito.ru{car_link}\")\n",
    "            car_html_content = car_response.text\n",
    "            car_soup = BeautifulSoup(car_html_content, 'html.parser')\n",
    "            \n",
    "            # Extract specific details using CSS selectors or other methods\n",
    "            characteristics_elem = car_soup.find('ul', class_='params-paramsList-_awNW')\n",
    "            if characteristics_elem:\n",
    "                characteristics = characteristics_elem.find_all('li', class_='params-paramsList__item-_2Y2O')\n",
    "                for char in characteristics:\n",
    "                    key = char.find('span', class_='styles-module-noAccent-LowZ8').text.strip().strip(':')\n",
    "                    value = char.text.replace(key, '').strip()\n",
    "                    print(f\"{key}: {value}\")\n",
    "    \n",
    "    # Now, navigate to the car's detailed page (car_link) and parse further details...\n",
    "    # You can use similar steps to fetch and parse the detailed page for each car\n",
    "\n"
   ]
  }
 ],
 "metadata": {
  "kernelspec": {
   "display_name": "base",
   "language": "python",
   "name": "python3"
  },
  "language_info": {
   "codemirror_mode": {
    "name": "ipython",
    "version": 3
   },
   "file_extension": ".py",
   "mimetype": "text/x-python",
   "name": "python",
   "nbconvert_exporter": "python",
   "pygments_lexer": "ipython3",
   "version": "3.10.12"
  }
 },
 "nbformat": 4,
 "nbformat_minor": 2
}
