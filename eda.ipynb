{
 "cells": [
  {
   "cell_type": "code",
   "execution_count": 1,
   "metadata": {},
   "outputs": [],
   "source": [
    "import pandas as pd\n",
    "import numpy as np\n",
    "import plotly.io as pio\n",
    "import matplotlib.pyplot as plt\n",
    "import re\n",
    "from sklearn.impute import SimpleImputer\n",
    "pio.renderers.default = 'notebook'"
   ]
  },
  {
   "cell_type": "code",
   "execution_count": null,
   "metadata": {},
   "outputs": [],
   "source": []
  },
  {
   "cell_type": "code",
   "execution_count": 2,
   "metadata": {},
   "outputs": [],
   "source": [
    "df_links = pd.read_csv('datasets/links_first_page.csv')\n",
    "df_data = pd.read_csv('datasets/cars_df.csv')"
   ]
  },
  {
   "cell_type": "code",
   "execution_count": 3,
   "metadata": {},
   "outputs": [
    {
     "data": {
      "text/html": [
       "<div>\n",
       "<style scoped>\n",
       "    .dataframe tbody tr th:only-of-type {\n",
       "        vertical-align: middle;\n",
       "    }\n",
       "\n",
       "    .dataframe tbody tr th {\n",
       "        vertical-align: top;\n",
       "    }\n",
       "\n",
       "    .dataframe thead th {\n",
       "        text-align: right;\n",
       "    }\n",
       "</style>\n",
       "<table border=\"1\" class=\"dataframe\">\n",
       "  <thead>\n",
       "    <tr style=\"text-align: right;\">\n",
       "      <th></th>\n",
       "      <th>title</th>\n",
       "      <th>price</th>\n",
       "      <th>link</th>\n",
       "    </tr>\n",
       "  </thead>\n",
       "  <tbody>\n",
       "    <tr>\n",
       "      <th>0</th>\n",
       "      <td>Kia K900 3.3 AT, 2019, 91 037 км, с пробегом, ...</td>\n",
       "      <td>2 999 000 ₽</td>\n",
       "      <td>https://www.avito.ru/moskva/avtomobili/kia_k90...</td>\n",
       "    </tr>\n",
       "    <tr>\n",
       "      <th>1</th>\n",
       "      <td>Mercedes-Benz V-класс 2.1 AT, 2017, 95 250 км,...</td>\n",
       "      <td>5 650 000 ₽</td>\n",
       "      <td>https://www.avito.ru/moskva/avtomobili/mercede...</td>\n",
       "    </tr>\n",
       "    <tr>\n",
       "      <th>2</th>\n",
       "      <td>Opel Astra GTC 1.4 AT, 2013, 113 000 км, с про...</td>\n",
       "      <td>699 000 ₽</td>\n",
       "      <td>https://www.avito.ru/moskva/avtomobili/opel_as...</td>\n",
       "    </tr>\n",
       "    <tr>\n",
       "      <th>3</th>\n",
       "      <td>Volkswagen Tiguan 2.0 AT, 2015, 165 000 км, с ...</td>\n",
       "      <td>1 195 000 ₽</td>\n",
       "      <td>https://www.avito.ru/moskva/avtomobili/volkswa...</td>\n",
       "    </tr>\n",
       "    <tr>\n",
       "      <th>4</th>\n",
       "      <td>Ford Kuga 1.5 AT, 2018, 103 000 км, с пробегом...</td>\n",
       "      <td>1 780 000 ₽</td>\n",
       "      <td>https://www.avito.ru/moskva/avtomobili/ford_ku...</td>\n",
       "    </tr>\n",
       "  </tbody>\n",
       "</table>\n",
       "</div>"
      ],
      "text/plain": [
       "                                               title        price  \\\n",
       "0  Kia K900 3.3 AT, 2019, 91 037 км, с пробегом, ...  2 999 000 ₽   \n",
       "1  Mercedes-Benz V-класс 2.1 AT, 2017, 95 250 км,...  5 650 000 ₽   \n",
       "2  Opel Astra GTC 1.4 AT, 2013, 113 000 км, с про...    699 000 ₽   \n",
       "3  Volkswagen Tiguan 2.0 AT, 2015, 165 000 км, с ...  1 195 000 ₽   \n",
       "4  Ford Kuga 1.5 AT, 2018, 103 000 км, с пробегом...  1 780 000 ₽   \n",
       "\n",
       "                                                link  \n",
       "0  https://www.avito.ru/moskva/avtomobili/kia_k90...  \n",
       "1  https://www.avito.ru/moskva/avtomobili/mercede...  \n",
       "2  https://www.avito.ru/moskva/avtomobili/opel_as...  \n",
       "3  https://www.avito.ru/moskva/avtomobili/volkswa...  \n",
       "4  https://www.avito.ru/moskva/avtomobili/ford_ku...  "
      ]
     },
     "execution_count": 3,
     "metadata": {},
     "output_type": "execute_result"
    }
   ],
   "source": [
    "df_links.head()"
   ]
  },
  {
   "cell_type": "code",
   "execution_count": 4,
   "metadata": {},
   "outputs": [
    {
     "data": {
      "text/html": [
       "<div>\n",
       "<style scoped>\n",
       "    .dataframe tbody tr th:only-of-type {\n",
       "        vertical-align: middle;\n",
       "    }\n",
       "\n",
       "    .dataframe tbody tr th {\n",
       "        vertical-align: top;\n",
       "    }\n",
       "\n",
       "    .dataframe thead th {\n",
       "        text-align: right;\n",
       "    }\n",
       "</style>\n",
       "<table border=\"1\" class=\"dataframe\">\n",
       "  <thead>\n",
       "    <tr style=\"text-align: right;\">\n",
       "      <th></th>\n",
       "      <th>title</th>\n",
       "      <th>Год выпуска</th>\n",
       "      <th>Поколение</th>\n",
       "      <th>Пробег</th>\n",
       "      <th>История пробега</th>\n",
       "      <th>Владельцев по ПТС</th>\n",
       "      <th>Состояние</th>\n",
       "      <th>Модификация</th>\n",
       "      <th>Объём двигателя</th>\n",
       "      <th>Тип двигателя</th>\n",
       "      <th>...</th>\n",
       "      <th>VIN или номер кузова</th>\n",
       "      <th>Обмен</th>\n",
       "      <th>Оценка</th>\n",
       "      <th>пробег_история</th>\n",
       "      <th>ДТП</th>\n",
       "      <th>другое_история</th>\n",
       "      <th>тех_история</th>\n",
       "      <th>sold</th>\n",
       "      <th>Метро</th>\n",
       "      <th>ПТС</th>\n",
       "    </tr>\n",
       "  </thead>\n",
       "  <tbody>\n",
       "    <tr>\n",
       "      <th>0</th>\n",
       "      <td>Kia K900 3.3 AT, 2019, 91 037 км, с пробегом, ...</td>\n",
       "      <td>2019.0</td>\n",
       "      <td>II (2018—2022)</td>\n",
       "      <td>91 037 км</td>\n",
       "      <td>8 записей в отчёте Автотеки</td>\n",
       "      <td>2</td>\n",
       "      <td>Не битый</td>\n",
       "      <td>3.3 4WD AT (249 л.с.)</td>\n",
       "      <td>3.3 л</td>\n",
       "      <td>Бензин</td>\n",
       "      <td>...</td>\n",
       "      <td>XWES*************</td>\n",
       "      <td>Возможен</td>\n",
       "      <td>2 999 000 ₽ — соответствует оценке Авито</td>\n",
       "      <td>8 записей с 2020 года</td>\n",
       "      <td>ДТП не найдены</td>\n",
       "      <td>2 владельца по ПТС</td>\n",
       "      <td>4 записи с описанием работ</td>\n",
       "      <td>1 раз продавался на Авито</td>\n",
       "      <td>Аннино:6–10 мин.;Лесопарковая:11–15 мин.;Улица...</td>\n",
       "      <td>NaN</td>\n",
       "    </tr>\n",
       "    <tr>\n",
       "      <th>1</th>\n",
       "      <td>Mercedes-Benz V-класс 2.1 AT, 2017, 95 250 км,...</td>\n",
       "      <td>2017.0</td>\n",
       "      <td>W447 (2014—2024)</td>\n",
       "      <td>95 250 км</td>\n",
       "      <td>19 записей в отчёте Автотеки</td>\n",
       "      <td>2</td>\n",
       "      <td>Не битый</td>\n",
       "      <td>V 250 d 2.1 4MATIC AT L3 (190 л.с.)</td>\n",
       "      <td>2.1 л</td>\n",
       "      <td>Дизель</td>\n",
       "      <td>...</td>\n",
       "      <td>WDF4*************</td>\n",
       "      <td>Не интересует</td>\n",
       "      <td>5 650 000 ₽ — соответствует оценке Авито</td>\n",
       "      <td>19 записей с 2019 года</td>\n",
       "      <td>NaN</td>\n",
       "      <td>NaN</td>\n",
       "      <td>19 записей с описанием работ</td>\n",
       "      <td>NaN</td>\n",
       "      <td>Проспект Вернадского:до 5 мин.;Новаторская:16–...</td>\n",
       "      <td>Оригинал</td>\n",
       "    </tr>\n",
       "    <tr>\n",
       "      <th>2</th>\n",
       "      <td>Opel Astra GTC 1.4 AT, 2013, 113 000 км, с про...</td>\n",
       "      <td>2013.0</td>\n",
       "      <td>J рестайлинг (2011—2017)</td>\n",
       "      <td>113 000 км</td>\n",
       "      <td>6 записей в отчёте Автотеки</td>\n",
       "      <td>2</td>\n",
       "      <td>Не битый</td>\n",
       "      <td>1.4 Turbo AT (140 л.с.)</td>\n",
       "      <td>1.4 л</td>\n",
       "      <td>Бензин</td>\n",
       "      <td>...</td>\n",
       "      <td>XWFP*************</td>\n",
       "      <td>Возможен</td>\n",
       "      <td>699 000 ₽ — цена ниже Авито Оценки</td>\n",
       "      <td>6 записей с 2017 года</td>\n",
       "      <td>ДТП не найдены</td>\n",
       "      <td>NaN</td>\n",
       "      <td>NaN</td>\n",
       "      <td>3 раза продавался на Авито</td>\n",
       "      <td>Южная:11–15 мин.;Чертановская:21–30 мин.;Пражс...</td>\n",
       "      <td>NaN</td>\n",
       "    </tr>\n",
       "    <tr>\n",
       "      <th>3</th>\n",
       "      <td>Volkswagen Tiguan 2.0 AT, 2015, 165 000 км, с ...</td>\n",
       "      <td>2015.0</td>\n",
       "      <td>I рестайлинг (2011—2019)</td>\n",
       "      <td>165 000 км</td>\n",
       "      <td>9 записей в отчёте Автотеки</td>\n",
       "      <td>2</td>\n",
       "      <td>Не битый</td>\n",
       "      <td>2.0 TDI 4Motion AT (140 л.с.)</td>\n",
       "      <td>2 л</td>\n",
       "      <td>Дизель</td>\n",
       "      <td>...</td>\n",
       "      <td>XW8Z*************</td>\n",
       "      <td>Возможен</td>\n",
       "      <td>1 195 000 ₽ — цена ниже Авито Оценки</td>\n",
       "      <td>9 записей с 2016 года</td>\n",
       "      <td>NaN</td>\n",
       "      <td>2 владельца по ПТС</td>\n",
       "      <td>5 записей с описанием работ</td>\n",
       "      <td>1 раз продавался на Авито</td>\n",
       "      <td>Волоколамская:16–20 мин.;Мякинино:от 31 мин.;Т...</td>\n",
       "      <td>NaN</td>\n",
       "    </tr>\n",
       "    <tr>\n",
       "      <th>4</th>\n",
       "      <td>Ford Kuga 1.5 AT, 2018, 103 000 км, с пробегом...</td>\n",
       "      <td>2018.0</td>\n",
       "      <td>II рестайлинг (2016—2019)</td>\n",
       "      <td>103 000 км</td>\n",
       "      <td>16 записей в отчёте Автотеки</td>\n",
       "      <td>1</td>\n",
       "      <td>Не битый</td>\n",
       "      <td>1.5 EcoBoost 4WD AT (150 л.с.)</td>\n",
       "      <td>1.5 л</td>\n",
       "      <td>Бензин</td>\n",
       "      <td>...</td>\n",
       "      <td>Z6FA*************</td>\n",
       "      <td>0</td>\n",
       "      <td>1 780 000 ₽ — соответствует оценке Авито</td>\n",
       "      <td>16 записей с 2018 года</td>\n",
       "      <td>NaN</td>\n",
       "      <td>1 владелец по ПТС</td>\n",
       "      <td>10 записей с описанием работ</td>\n",
       "      <td>1 раз продавался на Авито</td>\n",
       "      <td>Ховрино:до 5 мин.;Беломорская:21–30 мин.;Речно...</td>\n",
       "      <td>Оригинал</td>\n",
       "    </tr>\n",
       "  </tbody>\n",
       "</table>\n",
       "<p>5 rows × 26 columns</p>\n",
       "</div>"
      ],
      "text/plain": [
       "                                               title  Год выпуска  \\\n",
       "0  Kia K900 3.3 AT, 2019, 91 037 км, с пробегом, ...       2019.0   \n",
       "1  Mercedes-Benz V-класс 2.1 AT, 2017, 95 250 км,...       2017.0   \n",
       "2  Opel Astra GTC 1.4 AT, 2013, 113 000 км, с про...       2013.0   \n",
       "3  Volkswagen Tiguan 2.0 AT, 2015, 165 000 км, с ...       2015.0   \n",
       "4  Ford Kuga 1.5 AT, 2018, 103 000 км, с пробегом...       2018.0   \n",
       "\n",
       "                   Поколение      Пробег               История пробега  \\\n",
       "0             II (2018—2022)   91 037 км   8 записей в отчёте Автотеки   \n",
       "1           W447 (2014—2024)   95 250 км  19 записей в отчёте Автотеки   \n",
       "2   J рестайлинг (2011—2017)  113 000 км   6 записей в отчёте Автотеки   \n",
       "3   I рестайлинг (2011—2019)  165 000 км   9 записей в отчёте Автотеки   \n",
       "4  II рестайлинг (2016—2019)  103 000 км  16 записей в отчёте Автотеки   \n",
       "\n",
       "  Владельцев по ПТС Состояние                          Модификация  \\\n",
       "0                 2  Не битый                3.3 4WD AT (249 л.с.)   \n",
       "1                 2  Не битый  V 250 d 2.1 4MATIC AT L3 (190 л.с.)   \n",
       "2                 2  Не битый              1.4 Turbo AT (140 л.с.)   \n",
       "3                 2  Не битый        2.0 TDI 4Motion AT (140 л.с.)   \n",
       "4                 1  Не битый       1.5 EcoBoost 4WD AT (150 л.с.)   \n",
       "\n",
       "  Объём двигателя Тип двигателя  ... VIN или номер кузова          Обмен  \\\n",
       "0           3.3 л        Бензин  ...    XWES*************       Возможен   \n",
       "1           2.1 л        Дизель  ...    WDF4*************  Не интересует   \n",
       "2           1.4 л        Бензин  ...    XWFP*************       Возможен   \n",
       "3             2 л        Дизель  ...    XW8Z*************       Возможен   \n",
       "4           1.5 л        Бензин  ...    Z6FA*************              0   \n",
       "\n",
       "                                     Оценка          пробег_история  \\\n",
       "0  2 999 000 ₽ — соответствует оценке Авито   8 записей с 2020 года   \n",
       "1  5 650 000 ₽ — соответствует оценке Авито  19 записей с 2019 года   \n",
       "2        699 000 ₽ — цена ниже Авито Оценки   6 записей с 2017 года   \n",
       "3      1 195 000 ₽ — цена ниже Авито Оценки   9 записей с 2016 года   \n",
       "4  1 780 000 ₽ — соответствует оценке Авито  16 записей с 2018 года   \n",
       "\n",
       "              ДТП      другое_история                   тех_история  \\\n",
       "0  ДТП не найдены  2 владельца по ПТС    4 записи с описанием работ   \n",
       "1             NaN                 NaN  19 записей с описанием работ   \n",
       "2  ДТП не найдены                 NaN                           NaN   \n",
       "3             NaN  2 владельца по ПТС   5 записей с описанием работ   \n",
       "4             NaN   1 владелец по ПТС  10 записей с описанием работ   \n",
       "\n",
       "                         sold  \\\n",
       "0   1 раз продавался на Авито   \n",
       "1                         NaN   \n",
       "2  3 раза продавался на Авито   \n",
       "3   1 раз продавался на Авито   \n",
       "4   1 раз продавался на Авито   \n",
       "\n",
       "                                               Метро       ПТС  \n",
       "0  Аннино:6–10 мин.;Лесопарковая:11–15 мин.;Улица...       NaN  \n",
       "1  Проспект Вернадского:до 5 мин.;Новаторская:16–...  Оригинал  \n",
       "2  Южная:11–15 мин.;Чертановская:21–30 мин.;Пражс...       NaN  \n",
       "3  Волоколамская:16–20 мин.;Мякинино:от 31 мин.;Т...       NaN  \n",
       "4  Ховрино:до 5 мин.;Беломорская:21–30 мин.;Речно...  Оригинал  \n",
       "\n",
       "[5 rows x 26 columns]"
      ]
     },
     "execution_count": 4,
     "metadata": {},
     "output_type": "execute_result"
    }
   ],
   "source": [
    "\n",
    "df_data.head()"
   ]
  },
  {
   "cell_type": "code",
   "execution_count": 5,
   "metadata": {},
   "outputs": [
    {
     "data": {
      "text/html": [
       "<div>\n",
       "<style scoped>\n",
       "    .dataframe tbody tr th:only-of-type {\n",
       "        vertical-align: middle;\n",
       "    }\n",
       "\n",
       "    .dataframe tbody tr th {\n",
       "        vertical-align: top;\n",
       "    }\n",
       "\n",
       "    .dataframe thead th {\n",
       "        text-align: right;\n",
       "    }\n",
       "</style>\n",
       "<table border=\"1\" class=\"dataframe\">\n",
       "  <thead>\n",
       "    <tr style=\"text-align: right;\">\n",
       "      <th></th>\n",
       "      <th>title</th>\n",
       "      <th>Год выпуска</th>\n",
       "      <th>Поколение</th>\n",
       "      <th>Пробег</th>\n",
       "      <th>История пробега</th>\n",
       "      <th>Владельцев по ПТС</th>\n",
       "      <th>Состояние</th>\n",
       "      <th>Модификация</th>\n",
       "      <th>Объём двигателя</th>\n",
       "      <th>Тип двигателя</th>\n",
       "      <th>...</th>\n",
       "      <th>Оценка</th>\n",
       "      <th>пробег_история</th>\n",
       "      <th>ДТП</th>\n",
       "      <th>другое_история</th>\n",
       "      <th>тех_история</th>\n",
       "      <th>sold</th>\n",
       "      <th>Метро</th>\n",
       "      <th>ПТС</th>\n",
       "      <th>price</th>\n",
       "      <th>link</th>\n",
       "    </tr>\n",
       "  </thead>\n",
       "  <tbody>\n",
       "    <tr>\n",
       "      <th>0</th>\n",
       "      <td>Kia K900 3.3 AT, 2019, 91 037 км, с пробегом, ...</td>\n",
       "      <td>2019.0</td>\n",
       "      <td>II (2018—2022)</td>\n",
       "      <td>91 037 км</td>\n",
       "      <td>8 записей в отчёте Автотеки</td>\n",
       "      <td>2</td>\n",
       "      <td>Не битый</td>\n",
       "      <td>3.3 4WD AT (249 л.с.)</td>\n",
       "      <td>3.3 л</td>\n",
       "      <td>Бензин</td>\n",
       "      <td>...</td>\n",
       "      <td>2 999 000 ₽ — соответствует оценке Авито</td>\n",
       "      <td>8 записей с 2020 года</td>\n",
       "      <td>ДТП не найдены</td>\n",
       "      <td>2 владельца по ПТС</td>\n",
       "      <td>4 записи с описанием работ</td>\n",
       "      <td>1 раз продавался на Авито</td>\n",
       "      <td>Аннино:6–10 мин.;Лесопарковая:11–15 мин.;Улица...</td>\n",
       "      <td>NaN</td>\n",
       "      <td>2 999 000 ₽</td>\n",
       "      <td>https://www.avito.ru/moskva/avtomobili/kia_k90...</td>\n",
       "    </tr>\n",
       "    <tr>\n",
       "      <th>1</th>\n",
       "      <td>Mercedes-Benz V-класс 2.1 AT, 2017, 95 250 км,...</td>\n",
       "      <td>2017.0</td>\n",
       "      <td>W447 (2014—2024)</td>\n",
       "      <td>95 250 км</td>\n",
       "      <td>19 записей в отчёте Автотеки</td>\n",
       "      <td>2</td>\n",
       "      <td>Не битый</td>\n",
       "      <td>V 250 d 2.1 4MATIC AT L3 (190 л.с.)</td>\n",
       "      <td>2.1 л</td>\n",
       "      <td>Дизель</td>\n",
       "      <td>...</td>\n",
       "      <td>5 650 000 ₽ — соответствует оценке Авито</td>\n",
       "      <td>19 записей с 2019 года</td>\n",
       "      <td>NaN</td>\n",
       "      <td>NaN</td>\n",
       "      <td>19 записей с описанием работ</td>\n",
       "      <td>NaN</td>\n",
       "      <td>Проспект Вернадского:до 5 мин.;Новаторская:16–...</td>\n",
       "      <td>Оригинал</td>\n",
       "      <td>5 650 000 ₽</td>\n",
       "      <td>https://www.avito.ru/moskva/avtomobili/mercede...</td>\n",
       "    </tr>\n",
       "    <tr>\n",
       "      <th>2</th>\n",
       "      <td>Opel Astra GTC 1.4 AT, 2013, 113 000 км, с про...</td>\n",
       "      <td>2013.0</td>\n",
       "      <td>J рестайлинг (2011—2017)</td>\n",
       "      <td>113 000 км</td>\n",
       "      <td>6 записей в отчёте Автотеки</td>\n",
       "      <td>2</td>\n",
       "      <td>Не битый</td>\n",
       "      <td>1.4 Turbo AT (140 л.с.)</td>\n",
       "      <td>1.4 л</td>\n",
       "      <td>Бензин</td>\n",
       "      <td>...</td>\n",
       "      <td>699 000 ₽ — цена ниже Авито Оценки</td>\n",
       "      <td>6 записей с 2017 года</td>\n",
       "      <td>ДТП не найдены</td>\n",
       "      <td>NaN</td>\n",
       "      <td>NaN</td>\n",
       "      <td>3 раза продавался на Авито</td>\n",
       "      <td>Южная:11–15 мин.;Чертановская:21–30 мин.;Пражс...</td>\n",
       "      <td>NaN</td>\n",
       "      <td>699 000 ₽</td>\n",
       "      <td>https://www.avito.ru/moskva/avtomobili/opel_as...</td>\n",
       "    </tr>\n",
       "    <tr>\n",
       "      <th>3</th>\n",
       "      <td>Volkswagen Tiguan 2.0 AT, 2015, 165 000 км, с ...</td>\n",
       "      <td>2015.0</td>\n",
       "      <td>I рестайлинг (2011—2019)</td>\n",
       "      <td>165 000 км</td>\n",
       "      <td>9 записей в отчёте Автотеки</td>\n",
       "      <td>2</td>\n",
       "      <td>Не битый</td>\n",
       "      <td>2.0 TDI 4Motion AT (140 л.с.)</td>\n",
       "      <td>2 л</td>\n",
       "      <td>Дизель</td>\n",
       "      <td>...</td>\n",
       "      <td>1 195 000 ₽ — цена ниже Авито Оценки</td>\n",
       "      <td>9 записей с 2016 года</td>\n",
       "      <td>NaN</td>\n",
       "      <td>2 владельца по ПТС</td>\n",
       "      <td>5 записей с описанием работ</td>\n",
       "      <td>1 раз продавался на Авито</td>\n",
       "      <td>Волоколамская:16–20 мин.;Мякинино:от 31 мин.;Т...</td>\n",
       "      <td>NaN</td>\n",
       "      <td>1 195 000 ₽</td>\n",
       "      <td>https://www.avito.ru/moskva/avtomobili/volkswa...</td>\n",
       "    </tr>\n",
       "    <tr>\n",
       "      <th>4</th>\n",
       "      <td>Ford Kuga 1.5 AT, 2018, 103 000 км, с пробегом...</td>\n",
       "      <td>2018.0</td>\n",
       "      <td>II рестайлинг (2016—2019)</td>\n",
       "      <td>103 000 км</td>\n",
       "      <td>16 записей в отчёте Автотеки</td>\n",
       "      <td>1</td>\n",
       "      <td>Не битый</td>\n",
       "      <td>1.5 EcoBoost 4WD AT (150 л.с.)</td>\n",
       "      <td>1.5 л</td>\n",
       "      <td>Бензин</td>\n",
       "      <td>...</td>\n",
       "      <td>1 780 000 ₽ — соответствует оценке Авито</td>\n",
       "      <td>16 записей с 2018 года</td>\n",
       "      <td>NaN</td>\n",
       "      <td>1 владелец по ПТС</td>\n",
       "      <td>10 записей с описанием работ</td>\n",
       "      <td>1 раз продавался на Авито</td>\n",
       "      <td>Ховрино:до 5 мин.;Беломорская:21–30 мин.;Речно...</td>\n",
       "      <td>Оригинал</td>\n",
       "      <td>1 780 000 ₽</td>\n",
       "      <td>https://www.avito.ru/moskva/avtomobili/ford_ku...</td>\n",
       "    </tr>\n",
       "  </tbody>\n",
       "</table>\n",
       "<p>5 rows × 28 columns</p>\n",
       "</div>"
      ],
      "text/plain": [
       "                                               title  Год выпуска  \\\n",
       "0  Kia K900 3.3 AT, 2019, 91 037 км, с пробегом, ...       2019.0   \n",
       "1  Mercedes-Benz V-класс 2.1 AT, 2017, 95 250 км,...       2017.0   \n",
       "2  Opel Astra GTC 1.4 AT, 2013, 113 000 км, с про...       2013.0   \n",
       "3  Volkswagen Tiguan 2.0 AT, 2015, 165 000 км, с ...       2015.0   \n",
       "4  Ford Kuga 1.5 AT, 2018, 103 000 км, с пробегом...       2018.0   \n",
       "\n",
       "                   Поколение      Пробег               История пробега  \\\n",
       "0             II (2018—2022)   91 037 км   8 записей в отчёте Автотеки   \n",
       "1           W447 (2014—2024)   95 250 км  19 записей в отчёте Автотеки   \n",
       "2   J рестайлинг (2011—2017)  113 000 км   6 записей в отчёте Автотеки   \n",
       "3   I рестайлинг (2011—2019)  165 000 км   9 записей в отчёте Автотеки   \n",
       "4  II рестайлинг (2016—2019)  103 000 км  16 записей в отчёте Автотеки   \n",
       "\n",
       "  Владельцев по ПТС Состояние                          Модификация  \\\n",
       "0                 2  Не битый                3.3 4WD AT (249 л.с.)   \n",
       "1                 2  Не битый  V 250 d 2.1 4MATIC AT L3 (190 л.с.)   \n",
       "2                 2  Не битый              1.4 Turbo AT (140 л.с.)   \n",
       "3                 2  Не битый        2.0 TDI 4Motion AT (140 л.с.)   \n",
       "4                 1  Не битый       1.5 EcoBoost 4WD AT (150 л.с.)   \n",
       "\n",
       "  Объём двигателя Тип двигателя  ...  \\\n",
       "0           3.3 л        Бензин  ...   \n",
       "1           2.1 л        Дизель  ...   \n",
       "2           1.4 л        Бензин  ...   \n",
       "3             2 л        Дизель  ...   \n",
       "4           1.5 л        Бензин  ...   \n",
       "\n",
       "                                     Оценка          пробег_история  \\\n",
       "0  2 999 000 ₽ — соответствует оценке Авито   8 записей с 2020 года   \n",
       "1  5 650 000 ₽ — соответствует оценке Авито  19 записей с 2019 года   \n",
       "2        699 000 ₽ — цена ниже Авито Оценки   6 записей с 2017 года   \n",
       "3      1 195 000 ₽ — цена ниже Авито Оценки   9 записей с 2016 года   \n",
       "4  1 780 000 ₽ — соответствует оценке Авито  16 записей с 2018 года   \n",
       "\n",
       "              ДТП      другое_история                   тех_история  \\\n",
       "0  ДТП не найдены  2 владельца по ПТС    4 записи с описанием работ   \n",
       "1             NaN                 NaN  19 записей с описанием работ   \n",
       "2  ДТП не найдены                 NaN                           NaN   \n",
       "3             NaN  2 владельца по ПТС   5 записей с описанием работ   \n",
       "4             NaN   1 владелец по ПТС  10 записей с описанием работ   \n",
       "\n",
       "                         sold  \\\n",
       "0   1 раз продавался на Авито   \n",
       "1                         NaN   \n",
       "2  3 раза продавался на Авито   \n",
       "3   1 раз продавался на Авито   \n",
       "4   1 раз продавался на Авито   \n",
       "\n",
       "                                               Метро       ПТС        price  \\\n",
       "0  Аннино:6–10 мин.;Лесопарковая:11–15 мин.;Улица...       NaN  2 999 000 ₽   \n",
       "1  Проспект Вернадского:до 5 мин.;Новаторская:16–...  Оригинал  5 650 000 ₽   \n",
       "2  Южная:11–15 мин.;Чертановская:21–30 мин.;Пражс...       NaN    699 000 ₽   \n",
       "3  Волоколамская:16–20 мин.;Мякинино:от 31 мин.;Т...       NaN  1 195 000 ₽   \n",
       "4  Ховрино:до 5 мин.;Беломорская:21–30 мин.;Речно...  Оригинал  1 780 000 ₽   \n",
       "\n",
       "                                                link  \n",
       "0  https://www.avito.ru/moskva/avtomobili/kia_k90...  \n",
       "1  https://www.avito.ru/moskva/avtomobili/mercede...  \n",
       "2  https://www.avito.ru/moskva/avtomobili/opel_as...  \n",
       "3  https://www.avito.ru/moskva/avtomobili/volkswa...  \n",
       "4  https://www.avito.ru/moskva/avtomobili/ford_ku...  \n",
       "\n",
       "[5 rows x 28 columns]"
      ]
     },
     "execution_count": 5,
     "metadata": {},
     "output_type": "execute_result"
    }
   ],
   "source": [
    "df = pd.merge(df_data, df_links, on='title', how='inner')\n",
    "df.head()"
   ]
  },
  {
   "cell_type": "markdown",
   "metadata": {},
   "source": [
    "проверяем что колонки не потерялись:"
   ]
  },
  {
   "cell_type": "code",
   "execution_count": 6,
   "metadata": {},
   "outputs": [
    {
     "data": {
      "text/plain": [
       "(1805, 28)"
      ]
     },
     "execution_count": 6,
     "metadata": {},
     "output_type": "execute_result"
    }
   ],
   "source": [
    "df.shape"
   ]
  },
  {
   "cell_type": "markdown",
   "metadata": {},
   "source": [
    "Посомтрим на общую информацию о датасете:"
   ]
  },
  {
   "cell_type": "code",
   "execution_count": 7,
   "metadata": {},
   "outputs": [
    {
     "name": "stdout",
     "output_type": "stream",
     "text": [
      "<class 'pandas.core.frame.DataFrame'>\n",
      "RangeIndex: 1805 entries, 0 to 1804\n",
      "Data columns (total 28 columns):\n",
      " #   Column                Non-Null Count  Dtype  \n",
      "---  ------                --------------  -----  \n",
      " 0   title                 1805 non-null   object \n",
      " 1   Год выпуска           1751 non-null   float64\n",
      " 2   Поколение             1749 non-null   object \n",
      " 3   Пробег                1748 non-null   object \n",
      " 4   История пробега       1675 non-null   object \n",
      " 5   Владельцев по ПТС     1734 non-null   object \n",
      " 6   Состояние             1714 non-null   object \n",
      " 7   Модификация           1707 non-null   object \n",
      " 8   Объём двигателя       1687 non-null   object \n",
      " 9   Тип двигателя         1699 non-null   object \n",
      " 10  Коробка передач       1699 non-null   object \n",
      " 11  Привод                1699 non-null   object \n",
      " 12  Комплектация          1296 non-null   object \n",
      " 13  Тип кузова            1699 non-null   object \n",
      " 14  Цвет                  1699 non-null   object \n",
      " 15  Руль                  1699 non-null   object \n",
      " 16  VIN или номер кузова  1699 non-null   object \n",
      " 17  Обмен                 1751 non-null   object \n",
      " 18  Оценка                1536 non-null   object \n",
      " 19  пробег_история        1618 non-null   object \n",
      " 20  ДТП                   930 non-null    object \n",
      " 21  другое_история        1190 non-null   object \n",
      " 22  тех_история           1095 non-null   object \n",
      " 23  sold                  1153 non-null   object \n",
      " 24  Метро                 1728 non-null   object \n",
      " 25  ПТС                   958 non-null    object \n",
      " 26  price                 1805 non-null   object \n",
      " 27  link                  1805 non-null   object \n",
      "dtypes: float64(1), object(27)\n",
      "memory usage: 395.0+ KB\n"
     ]
    }
   ],
   "source": [
    "df.info()"
   ]
  },
  {
   "cell_type": "markdown",
   "metadata": {},
   "source": [
    "### Предобработка датасета\n",
    "Видим, что почти все колонки имеют тип данных объект (из-за того что мы не приводили тип данных при парсинге, что мы исправим чуть позже).\n",
    "\n",
    "Изначально лучше сразу выбросить те строки, в которых нет никаких данных, кроме информации с главной страницы Авито (то есть те, в которых не None параметрами являются title, price и link), а также параметрами тип кузова, коробка передач, привод. Также можем сразу дропнуть столбец link, так как вдальнейшем он нам не пригодится"
   ]
  },
  {
   "cell_type": "code",
   "execution_count": null,
   "metadata": {},
   "outputs": [],
   "source": []
  },
  {
   "cell_type": "code",
   "execution_count": 8,
   "metadata": {},
   "outputs": [],
   "source": [
    "\n",
    "bad_rows = df[df[['Тип кузова', 'Коробка передач', 'Привод']].isnull().all(axis=1)]\n",
    "bad_idx = bad_rows.index"
   ]
  },
  {
   "cell_type": "code",
   "execution_count": 9,
   "metadata": {},
   "outputs": [
    {
     "data": {
      "text/plain": [
       "106"
      ]
     },
     "execution_count": 9,
     "metadata": {},
     "output_type": "execute_result"
    }
   ],
   "source": [
    "len(bad_idx) # длина равна 54, что соответствует разнице между длиной всего датасета и "
   ]
  },
  {
   "cell_type": "code",
   "execution_count": 10,
   "metadata": {},
   "outputs": [
    {
     "data": {
      "text/plain": [
       "Index([  59,   82,  108,  121,  150,  172,  189,  192,  193,  209,\n",
       "       ...\n",
       "       1729, 1738, 1748, 1751, 1757, 1767, 1781, 1791, 1801, 1804],\n",
       "      dtype='int64', length=106)"
      ]
     },
     "execution_count": 10,
     "metadata": {},
     "output_type": "execute_result"
    }
   ],
   "source": [
    "bad_idx"
   ]
  },
  {
   "cell_type": "code",
   "execution_count": 11,
   "metadata": {},
   "outputs": [],
   "source": [
    "df.drop(bad_idx,axis=0, inplace=True)\n",
    "df.drop('link', axis=1, inplace=True)"
   ]
  },
  {
   "cell_type": "code",
   "execution_count": 12,
   "metadata": {},
   "outputs": [
    {
     "name": "stdout",
     "output_type": "stream",
     "text": [
      "<class 'pandas.core.frame.DataFrame'>\n",
      "Index: 1699 entries, 0 to 1803\n",
      "Data columns (total 27 columns):\n",
      " #   Column                Non-Null Count  Dtype  \n",
      "---  ------                --------------  -----  \n",
      " 0   title                 1699 non-null   object \n",
      " 1   Год выпуска           1699 non-null   float64\n",
      " 2   Поколение             1699 non-null   object \n",
      " 3   Пробег                1698 non-null   object \n",
      " 4   История пробега       1632 non-null   object \n",
      " 5   Владельцев по ПТС     1698 non-null   object \n",
      " 6   Состояние             1699 non-null   object \n",
      " 7   Модификация           1699 non-null   object \n",
      " 8   Объём двигателя       1687 non-null   object \n",
      " 9   Тип двигателя         1699 non-null   object \n",
      " 10  Коробка передач       1699 non-null   object \n",
      " 11  Привод                1699 non-null   object \n",
      " 12  Комплектация          1296 non-null   object \n",
      " 13  Тип кузова            1699 non-null   object \n",
      " 14  Цвет                  1699 non-null   object \n",
      " 15  Руль                  1699 non-null   object \n",
      " 16  VIN или номер кузова  1699 non-null   object \n",
      " 17  Обмен                 1699 non-null   object \n",
      " 18  Оценка                1489 non-null   object \n",
      " 19  пробег_история        1567 non-null   object \n",
      " 20  ДТП                   910 non-null    object \n",
      " 21  другое_история        1173 non-null   object \n",
      " 22  тех_история           1054 non-null   object \n",
      " 23  sold                  1102 non-null   object \n",
      " 24  Метро                 1676 non-null   object \n",
      " 25  ПТС                   958 non-null    object \n",
      " 26  price                 1699 non-null   object \n",
      "dtypes: float64(1), object(26)\n",
      "memory usage: 371.7+ KB\n"
     ]
    }
   ],
   "source": [
    "df.info()"
   ]
  },
  {
   "cell_type": "markdown",
   "metadata": {},
   "source": [
    "### Обработка значений\n",
    "\n",
    "\n",
    "Сейчас все данные являются объектами из-за формата парсинга. Хочется четко отделить категориальные и числовые признаки, а для этого надо изменить значения, которые сейчас хранятся в колонках."
   ]
  },
  {
   "cell_type": "markdown",
   "metadata": {},
   "source": [
    "#### title\n",
    "Начнем с title, так как он хранит информацию не только о модели, но и о пробеге и просто часть, связанную с объявлением"
   ]
  },
  {
   "cell_type": "code",
   "execution_count": 13,
   "metadata": {},
   "outputs": [
    {
     "data": {
      "text/plain": [
       "'Kia K900 3.3 AT, 2019, 91\\xa0037\\xa0км, с пробегом, цена 2\\xa0999\\xa0000 руб. - Автомобили в Москве'"
      ]
     },
     "execution_count": 13,
     "metadata": {},
     "output_type": "execute_result"
    }
   ],
   "source": [
    "df.loc[0].title # видим странные символы => надо их заменить"
   ]
  },
  {
   "cell_type": "code",
   "execution_count": 14,
   "metadata": {},
   "outputs": [
    {
     "data": {
      "text/plain": [
       "'Kia K900 3.3 AT, 2019, 91037км, с пробегом, цена 2999000 руб. - Автомобили в Москве'"
      ]
     },
     "execution_count": 14,
     "metadata": {},
     "output_type": "execute_result"
    }
   ],
   "source": [
    "df.loc[0].title.replace('\\xa0', '') # замена"
   ]
  },
  {
   "cell_type": "markdown",
   "metadata": {},
   "source": [
    "То есть информация хранится в формате: Модель, год, пробег, наличие пробега, цена - дополнение при парсине (Автомобили в Москве). Пробег хранится в отдельном признаке \"Пробег\", однако он отсутствует у 3х строчек. Посмотрим на них"
   ]
  },
  {
   "cell_type": "code",
   "execution_count": 15,
   "metadata": {},
   "outputs": [
    {
     "data": {
      "text/html": [
       "<div>\n",
       "<style scoped>\n",
       "    .dataframe tbody tr th:only-of-type {\n",
       "        vertical-align: middle;\n",
       "    }\n",
       "\n",
       "    .dataframe tbody tr th {\n",
       "        vertical-align: top;\n",
       "    }\n",
       "\n",
       "    .dataframe thead th {\n",
       "        text-align: right;\n",
       "    }\n",
       "</style>\n",
       "<table border=\"1\" class=\"dataframe\">\n",
       "  <thead>\n",
       "    <tr style=\"text-align: right;\">\n",
       "      <th></th>\n",
       "      <th>title</th>\n",
       "      <th>Год выпуска</th>\n",
       "      <th>Поколение</th>\n",
       "      <th>Пробег</th>\n",
       "      <th>История пробега</th>\n",
       "      <th>Владельцев по ПТС</th>\n",
       "      <th>Состояние</th>\n",
       "      <th>Модификация</th>\n",
       "      <th>Объём двигателя</th>\n",
       "      <th>Тип двигателя</th>\n",
       "      <th>...</th>\n",
       "      <th>Обмен</th>\n",
       "      <th>Оценка</th>\n",
       "      <th>пробег_история</th>\n",
       "      <th>ДТП</th>\n",
       "      <th>другое_история</th>\n",
       "      <th>тех_история</th>\n",
       "      <th>sold</th>\n",
       "      <th>Метро</th>\n",
       "      <th>ПТС</th>\n",
       "      <th>price</th>\n",
       "    </tr>\n",
       "  </thead>\n",
       "  <tbody>\n",
       "    <tr>\n",
       "      <th>96</th>\n",
       "      <td>Новый Kia Seltos 1.6 AT, 2022, цена от 1 884 9...</td>\n",
       "      <td>2022.0</td>\n",
       "      <td>I (2019—2022)</td>\n",
       "      <td>NaN</td>\n",
       "      <td>NaN</td>\n",
       "      <td>NaN</td>\n",
       "      <td>Не битый</td>\n",
       "      <td>1.6 AT (123 л.с.)</td>\n",
       "      <td>1.6 л</td>\n",
       "      <td>Бензин</td>\n",
       "      <td>...</td>\n",
       "      <td>Возможен</td>\n",
       "      <td>NaN</td>\n",
       "      <td>NaN</td>\n",
       "      <td>NaN</td>\n",
       "      <td>NaN</td>\n",
       "      <td>NaN</td>\n",
       "      <td>NaN</td>\n",
       "      <td>Угрешская:6–10 мин.;Волгоградский проспект:6–1...</td>\n",
       "      <td>NaN</td>\n",
       "      <td>от 1 884 900 ₽</td>\n",
       "    </tr>\n",
       "  </tbody>\n",
       "</table>\n",
       "<p>1 rows × 27 columns</p>\n",
       "</div>"
      ],
      "text/plain": [
       "                                                title  Год выпуска  \\\n",
       "96  Новый Kia Seltos 1.6 AT, 2022, цена от 1 884 9...       2022.0   \n",
       "\n",
       "        Поколение Пробег История пробега Владельцев по ПТС Состояние  \\\n",
       "96  I (2019—2022)    NaN             NaN               NaN  Не битый   \n",
       "\n",
       "          Модификация Объём двигателя Тип двигателя  ...     Обмен Оценка  \\\n",
       "96  1.6 AT (123 л.с.)           1.6 л        Бензин  ...  Возможен    NaN   \n",
       "\n",
       "   пробег_история  ДТП другое_история тех_история sold  \\\n",
       "96            NaN  NaN            NaN         NaN  NaN   \n",
       "\n",
       "                                                Метро  ПТС           price  \n",
       "96  Угрешская:6–10 мин.;Волгоградский проспект:6–1...  NaN  от 1 884 900 ₽  \n",
       "\n",
       "[1 rows x 27 columns]"
      ]
     },
     "execution_count": 15,
     "metadata": {},
     "output_type": "execute_result"
    }
   ],
   "source": [
    "df[df['Пробег'].isna()] # видим, что данные строки имеют пропуски по псех своих значениях, поэтому их удаление также релевантно\n"
   ]
  },
  {
   "cell_type": "code",
   "execution_count": 16,
   "metadata": {},
   "outputs": [],
   "source": [
    "df.drop(df[df['Пробег'].isna()].index, axis=0, inplace=True)"
   ]
  },
  {
   "cell_type": "markdown",
   "metadata": {},
   "source": [
    "Теперь можем просто оставить в качестве title весь текст до года выпуска (то есть только название машины)"
   ]
  },
  {
   "cell_type": "code",
   "execution_count": 17,
   "metadata": {},
   "outputs": [
    {
     "data": {
      "text/html": [
       "<div>\n",
       "<style scoped>\n",
       "    .dataframe tbody tr th:only-of-type {\n",
       "        vertical-align: middle;\n",
       "    }\n",
       "\n",
       "    .dataframe tbody tr th {\n",
       "        vertical-align: top;\n",
       "    }\n",
       "\n",
       "    .dataframe thead th {\n",
       "        text-align: right;\n",
       "    }\n",
       "</style>\n",
       "<table border=\"1\" class=\"dataframe\">\n",
       "  <thead>\n",
       "    <tr style=\"text-align: right;\">\n",
       "      <th></th>\n",
       "      <th>title</th>\n",
       "      <th>Год выпуска</th>\n",
       "      <th>Поколение</th>\n",
       "      <th>Пробег</th>\n",
       "      <th>История пробега</th>\n",
       "      <th>Владельцев по ПТС</th>\n",
       "      <th>Состояние</th>\n",
       "      <th>Модификация</th>\n",
       "      <th>Объём двигателя</th>\n",
       "      <th>Тип двигателя</th>\n",
       "      <th>...</th>\n",
       "      <th>Обмен</th>\n",
       "      <th>Оценка</th>\n",
       "      <th>пробег_история</th>\n",
       "      <th>ДТП</th>\n",
       "      <th>другое_история</th>\n",
       "      <th>тех_история</th>\n",
       "      <th>sold</th>\n",
       "      <th>Метро</th>\n",
       "      <th>ПТС</th>\n",
       "      <th>price</th>\n",
       "    </tr>\n",
       "  </thead>\n",
       "  <tbody>\n",
       "    <tr>\n",
       "      <th>0</th>\n",
       "      <td>Kia K900 3.3 AT</td>\n",
       "      <td>2019.0</td>\n",
       "      <td>II (2018—2022)</td>\n",
       "      <td>91 037 км</td>\n",
       "      <td>8 записей в отчёте Автотеки</td>\n",
       "      <td>2</td>\n",
       "      <td>Не битый</td>\n",
       "      <td>3.3 4WD AT (249 л.с.)</td>\n",
       "      <td>3.3 л</td>\n",
       "      <td>Бензин</td>\n",
       "      <td>...</td>\n",
       "      <td>Возможен</td>\n",
       "      <td>2 999 000 ₽ — соответствует оценке Авито</td>\n",
       "      <td>8 записей с 2020 года</td>\n",
       "      <td>ДТП не найдены</td>\n",
       "      <td>2 владельца по ПТС</td>\n",
       "      <td>4 записи с описанием работ</td>\n",
       "      <td>1 раз продавался на Авито</td>\n",
       "      <td>Аннино:6–10 мин.;Лесопарковая:11–15 мин.;Улица...</td>\n",
       "      <td>NaN</td>\n",
       "      <td>2 999 000 ₽</td>\n",
       "    </tr>\n",
       "  </tbody>\n",
       "</table>\n",
       "<p>1 rows × 27 columns</p>\n",
       "</div>"
      ],
      "text/plain": [
       "             title  Год выпуска       Поколение     Пробег  \\\n",
       "0  Kia K900 3.3 AT       2019.0  II (2018—2022)  91 037 км   \n",
       "\n",
       "               История пробега Владельцев по ПТС Состояние  \\\n",
       "0  8 записей в отчёте Автотеки                 2  Не битый   \n",
       "\n",
       "             Модификация Объём двигателя Тип двигателя  ...     Обмен  \\\n",
       "0  3.3 4WD AT (249 л.с.)           3.3 л        Бензин  ...  Возможен   \n",
       "\n",
       "                                     Оценка         пробег_история  \\\n",
       "0  2 999 000 ₽ — соответствует оценке Авито  8 записей с 2020 года   \n",
       "\n",
       "              ДТП      другое_история                 тех_история  \\\n",
       "0  ДТП не найдены  2 владельца по ПТС  4 записи с описанием работ   \n",
       "\n",
       "                        sold  \\\n",
       "0  1 раз продавался на Авито   \n",
       "\n",
       "                                               Метро  ПТС        price  \n",
       "0  Аннино:6–10 мин.;Лесопарковая:11–15 мин.;Улица...  NaN  2 999 000 ₽  \n",
       "\n",
       "[1 rows x 27 columns]"
      ]
     },
     "execution_count": 17,
     "metadata": {},
     "output_type": "execute_result"
    }
   ],
   "source": [
    "df['title'] = df['title'].apply(lambda row: row.split(', ')[0])\n",
    "df.head(1)"
   ]
  },
  {
   "cell_type": "markdown",
   "metadata": {},
   "source": [
    "#### Год выпуска\n",
    "\n",
    "Данное значение просто приведем к целочисленному типу, так как будет более релевантно его использовать и переименуем поле в year"
   ]
  },
  {
   "cell_type": "code",
   "execution_count": 18,
   "metadata": {},
   "outputs": [
    {
     "data": {
      "text/html": [
       "<div>\n",
       "<style scoped>\n",
       "    .dataframe tbody tr th:only-of-type {\n",
       "        vertical-align: middle;\n",
       "    }\n",
       "\n",
       "    .dataframe tbody tr th {\n",
       "        vertical-align: top;\n",
       "    }\n",
       "\n",
       "    .dataframe thead th {\n",
       "        text-align: right;\n",
       "    }\n",
       "</style>\n",
       "<table border=\"1\" class=\"dataframe\">\n",
       "  <thead>\n",
       "    <tr style=\"text-align: right;\">\n",
       "      <th></th>\n",
       "      <th>title</th>\n",
       "      <th>Год выпуска</th>\n",
       "      <th>Поколение</th>\n",
       "      <th>Пробег</th>\n",
       "      <th>История пробега</th>\n",
       "      <th>Владельцев по ПТС</th>\n",
       "      <th>Состояние</th>\n",
       "      <th>Модификация</th>\n",
       "      <th>Объём двигателя</th>\n",
       "      <th>Тип двигателя</th>\n",
       "      <th>...</th>\n",
       "      <th>Обмен</th>\n",
       "      <th>Оценка</th>\n",
       "      <th>пробег_история</th>\n",
       "      <th>ДТП</th>\n",
       "      <th>другое_история</th>\n",
       "      <th>тех_история</th>\n",
       "      <th>sold</th>\n",
       "      <th>Метро</th>\n",
       "      <th>ПТС</th>\n",
       "      <th>price</th>\n",
       "    </tr>\n",
       "  </thead>\n",
       "  <tbody>\n",
       "    <tr>\n",
       "      <th>0</th>\n",
       "      <td>Kia K900 3.3 AT</td>\n",
       "      <td>2019</td>\n",
       "      <td>II (2018—2022)</td>\n",
       "      <td>91 037 км</td>\n",
       "      <td>8 записей в отчёте Автотеки</td>\n",
       "      <td>2</td>\n",
       "      <td>Не битый</td>\n",
       "      <td>3.3 4WD AT (249 л.с.)</td>\n",
       "      <td>3.3 л</td>\n",
       "      <td>Бензин</td>\n",
       "      <td>...</td>\n",
       "      <td>Возможен</td>\n",
       "      <td>2 999 000 ₽ — соответствует оценке Авито</td>\n",
       "      <td>8 записей с 2020 года</td>\n",
       "      <td>ДТП не найдены</td>\n",
       "      <td>2 владельца по ПТС</td>\n",
       "      <td>4 записи с описанием работ</td>\n",
       "      <td>1 раз продавался на Авито</td>\n",
       "      <td>Аннино:6–10 мин.;Лесопарковая:11–15 мин.;Улица...</td>\n",
       "      <td>NaN</td>\n",
       "      <td>2 999 000 ₽</td>\n",
       "    </tr>\n",
       "  </tbody>\n",
       "</table>\n",
       "<p>1 rows × 27 columns</p>\n",
       "</div>"
      ],
      "text/plain": [
       "             title  Год выпуска       Поколение     Пробег  \\\n",
       "0  Kia K900 3.3 AT         2019  II (2018—2022)  91 037 км   \n",
       "\n",
       "               История пробега Владельцев по ПТС Состояние  \\\n",
       "0  8 записей в отчёте Автотеки                 2  Не битый   \n",
       "\n",
       "             Модификация Объём двигателя Тип двигателя  ...     Обмен  \\\n",
       "0  3.3 4WD AT (249 л.с.)           3.3 л        Бензин  ...  Возможен   \n",
       "\n",
       "                                     Оценка         пробег_история  \\\n",
       "0  2 999 000 ₽ — соответствует оценке Авито  8 записей с 2020 года   \n",
       "\n",
       "              ДТП      другое_история                 тех_история  \\\n",
       "0  ДТП не найдены  2 владельца по ПТС  4 записи с описанием работ   \n",
       "\n",
       "                        sold  \\\n",
       "0  1 раз продавался на Авито   \n",
       "\n",
       "                                               Метро  ПТС        price  \n",
       "0  Аннино:6–10 мин.;Лесопарковая:11–15 мин.;Улица...  NaN  2 999 000 ₽  \n",
       "\n",
       "[1 rows x 27 columns]"
      ]
     },
     "execution_count": 18,
     "metadata": {},
     "output_type": "execute_result"
    }
   ],
   "source": [
    "df['Год выпуска'] = df['Год выпуска'].astype(int)\n",
    "df.head(1)"
   ]
  },
  {
   "cell_type": "code",
   "execution_count": 19,
   "metadata": {},
   "outputs": [],
   "source": [
    "df.rename(columns={'Год выпуска':'year'}, inplace=True)"
   ]
  },
  {
   "cell_type": "markdown",
   "metadata": {},
   "source": [
    "#### Поколение"
   ]
  },
  {
   "cell_type": "code",
   "execution_count": 20,
   "metadata": {},
   "outputs": [
    {
     "data": {
      "text/plain": [
       "Поколение\n",
       "III (2010—2014)                29\n",
       "IV рестайлинг (2018—2020)      24\n",
       "III (2011—2015)                20\n",
       "II (2017—2020)                 18\n",
       "V рестайлинг (2015—2020)       18\n",
       "                               ..\n",
       "XV30 (2001—2006)                1\n",
       "I (2017—2023)                   1\n",
       "W221 рестайлинг (2009—2013)     1\n",
       "III рестайлинг (2005—2009)      1\n",
       "VIII рестайлинг (2011—2013)     1\n",
       "Name: count, Length: 564, dtype: int64"
      ]
     },
     "execution_count": 20,
     "metadata": {},
     "output_type": "execute_result"
    }
   ],
   "source": [
    "df['Поколение'].value_counts(dropna=False)"
   ]
  },
  {
   "cell_type": "markdown",
   "metadata": {},
   "source": [
    "Поколение можно отнести как к категориальной, так и числовой переменной (как номер). Первоначально давайте попробуем выделить из него номер и название поколения (без годов)"
   ]
  },
  {
   "cell_type": "code",
   "execution_count": 21,
   "metadata": {},
   "outputs": [],
   "source": [
    "def get_age(row):\n",
    "    if type(row) is str:\n",
    "        return row[:row.find(' (')]\n",
    "    return None\n",
    "\n",
    "df['Поколение'] = df['Поколение'].apply(get_age)"
   ]
  },
  {
   "cell_type": "markdown",
   "metadata": {},
   "source": [
    "посмотрим на пустые значения"
   ]
  },
  {
   "cell_type": "code",
   "execution_count": 22,
   "metadata": {},
   "outputs": [
    {
     "data": {
      "text/plain": [
       "0"
      ]
     },
     "execution_count": 22,
     "metadata": {},
     "output_type": "execute_result"
    }
   ],
   "source": [
    "df['Поколение'].isna().sum()"
   ]
  },
  {
   "cell_type": "markdown",
   "metadata": {},
   "source": [
    "заменим пустые значения на наиболее частое (так как процент пустых значений очень мал – 3%)"
   ]
  },
  {
   "cell_type": "code",
   "execution_count": 23,
   "metadata": {},
   "outputs": [],
   "source": [
    "df['Поколение'].fillna(df['Поколение'].value_counts().index[0], inplace=True)\n",
    "df.rename(columns={'Поколение':'age'}, inplace=True)"
   ]
  },
  {
   "cell_type": "code",
   "execution_count": null,
   "metadata": {},
   "outputs": [],
   "source": []
  },
  {
   "cell_type": "markdown",
   "metadata": {},
   "source": [
    "#### Пробег"
   ]
  },
  {
   "cell_type": "code",
   "execution_count": 24,
   "metadata": {},
   "outputs": [
    {
     "data": {
      "text/plain": [
       "array(['91 037 км', '95 250 км', '113 000 км', ..., '159 500 км',\n",
       "       '122 463 км', '157 500 км'], dtype=object)"
      ]
     },
     "execution_count": 24,
     "metadata": {},
     "output_type": "execute_result"
    }
   ],
   "source": [
    "df['Пробег'].values"
   ]
  },
  {
   "cell_type": "markdown",
   "metadata": {},
   "source": [
    "Видим, что числа являются числами с пробелами и измерениями км, то есть надо оставить только число\n"
   ]
  },
  {
   "cell_type": "code",
   "execution_count": 25,
   "metadata": {},
   "outputs": [],
   "source": [
    "def get_run(row):\n",
    "    if type(row) is str:\n",
    "        row = row.rstrip(' км')\n",
    "        return int(''.join(row.strip().split()))\n",
    "    return None\n",
    "\n",
    "df['Пробег'] = df['Пробег'].apply(get_run)"
   ]
  },
  {
   "cell_type": "markdown",
   "metadata": {},
   "source": [
    "Заполним None значения средним:"
   ]
  },
  {
   "cell_type": "code",
   "execution_count": 26,
   "metadata": {},
   "outputs": [
    {
     "data": {
      "text/plain": [
       "0"
      ]
     },
     "execution_count": 26,
     "metadata": {},
     "output_type": "execute_result"
    }
   ],
   "source": [
    "df['Пробег'].isna().sum()"
   ]
  },
  {
   "cell_type": "code",
   "execution_count": 27,
   "metadata": {},
   "outputs": [],
   "source": [
    "mean_run = df['Пробег'].mean()\n",
    "\n",
    "df['Пробег'].fillna(mean_run, inplace=True)\n",
    "df.rename(columns={'Пробег':'run'}, inplace=True)"
   ]
  },
  {
   "cell_type": "markdown",
   "metadata": {},
   "source": [
    "#### История пробега / пробег_история"
   ]
  },
  {
   "cell_type": "markdown",
   "metadata": {},
   "source": [
    "Сначала посмотрим на эти 2 столбца:"
   ]
  },
  {
   "cell_type": "code",
   "execution_count": 28,
   "metadata": {},
   "outputs": [
    {
     "data": {
      "text/plain": [
       "array(['8 записей в отчёте Автотеки', '19 записей в отчёте Автотеки',\n",
       "       '6 записей в отчёте Автотеки', ..., '20 записей в отчёте Автотеки',\n",
       "       '6 записей в отчёте Автотеки', '11 записей в отчёте Автотеки'],\n",
       "      dtype=object)"
      ]
     },
     "execution_count": 28,
     "metadata": {},
     "output_type": "execute_result"
    }
   ],
   "source": [
    "df['История пробега'].values"
   ]
  },
  {
   "cell_type": "code",
   "execution_count": 29,
   "metadata": {},
   "outputs": [
    {
     "data": {
      "text/plain": [
       "array(['8 записей с 2020 года', '19 записей с 2019 года',\n",
       "       '6 записей с 2017 года', ..., '20 записей с 2013 года',\n",
       "       '6 записей с 2016 года', '11 записей с 2017 года'], dtype=object)"
      ]
     },
     "execution_count": 29,
     "metadata": {},
     "output_type": "execute_result"
    }
   ],
   "source": [
    "df['пробег_история'].values"
   ]
  },
  {
   "cell_type": "markdown",
   "metadata": {},
   "source": [
    "видим что записи практически одинаковые и отличаются наличием или отсутствием первой истории о пробеге, однако лучше оставить число записей в колонке История пробега"
   ]
  },
  {
   "cell_type": "code",
   "execution_count": 30,
   "metadata": {},
   "outputs": [],
   "source": [
    "df.drop(columns=['пробег_история'], inplace=True)\n",
    "df.rename(columns={'История пробега':'history'}, inplace=True)"
   ]
  },
  {
   "cell_type": "code",
   "execution_count": 31,
   "metadata": {},
   "outputs": [
    {
     "data": {
      "text/plain": [
       "66"
      ]
     },
     "execution_count": 31,
     "metadata": {},
     "output_type": "execute_result"
    }
   ],
   "source": [
    "df['history'].isna().sum()"
   ]
  },
  {
   "cell_type": "markdown",
   "metadata": {},
   "source": [
    "возьмем только число из истории и заполним None средними"
   ]
  },
  {
   "cell_type": "code",
   "execution_count": 32,
   "metadata": {},
   "outputs": [],
   "source": [
    "def get_history(row):\n",
    "    if type(row) is str and 'Проверить' not in row:\n",
    "        return int(row.strip().split()[0])\n",
    "    return None\n",
    "\n",
    "df['history'] = df['history'].apply(get_history)\n",
    "mean_history = df['history'].mean()\n",
    "df['history'].fillna(mean_history, inplace=True)"
   ]
  },
  {
   "cell_type": "markdown",
   "metadata": {},
   "source": [
    "#### Число владельцев по ПТС"
   ]
  },
  {
   "cell_type": "code",
   "execution_count": 33,
   "metadata": {},
   "outputs": [
    {
     "data": {
      "text/plain": [
       "Владельцев по ПТС\n",
       "1     723\n",
       "2     486\n",
       "3     250\n",
       "4+    239\n",
       "Name: count, dtype: int64"
      ]
     },
     "execution_count": 33,
     "metadata": {},
     "output_type": "execute_result"
    }
   ],
   "source": [
    "df['Владельцев по ПТС'].value_counts(dropna=False)"
   ]
  },
  {
   "cell_type": "markdown",
   "metadata": {},
   "source": [
    "категориальная переменная, всего 14 пустых значений (=> можем заполнить самым частым)"
   ]
  },
  {
   "cell_type": "code",
   "execution_count": 34,
   "metadata": {},
   "outputs": [],
   "source": [
    "df['Владельцев по ПТС'].fillna(df['Владельцев по ПТС'].value_counts().index[0], inplace=True)\n",
    "df.rename(columns={'Владельцев по ПТС':'owners_pts'}, inplace=True)"
   ]
  },
  {
   "cell_type": "markdown",
   "metadata": {},
   "source": [
    "#### тип ПТС"
   ]
  },
  {
   "cell_type": "code",
   "execution_count": 35,
   "metadata": {},
   "outputs": [
    {
     "data": {
      "text/plain": [
       "ПТС\n",
       "NaN            740\n",
       "Оригинал       727\n",
       "Дубликат       118\n",
       "Электронный    113\n",
       "Name: count, dtype: int64"
      ]
     },
     "execution_count": 35,
     "metadata": {},
     "output_type": "execute_result"
    }
   ],
   "source": [
    "df['ПТС'].value_counts(dropna=False)"
   ]
  },
  {
   "cell_type": "markdown",
   "metadata": {},
   "source": [
    "В данной ситуации Nan будет релевантнее объединить в другую категорию (так как число Nan значений больше чем значений в другой большой группе, но удаление данного признака может быть нерелевантно)"
   ]
  },
  {
   "cell_type": "code",
   "execution_count": 36,
   "metadata": {},
   "outputs": [],
   "source": [
    "df['ПТС'].fillna('Другое', inplace=True)\n",
    "df.rename(columns={'ПТС':'pts_type'}, inplace=True)"
   ]
  },
  {
   "cell_type": "markdown",
   "metadata": {},
   "source": [
    "#### Состояние"
   ]
  },
  {
   "cell_type": "code",
   "execution_count": 37,
   "metadata": {},
   "outputs": [
    {
     "data": {
      "text/plain": [
       "Состояние\n",
       "Не битый    1686\n",
       "Битый         12\n",
       "Name: count, dtype: int64"
      ]
     },
     "execution_count": 37,
     "metadata": {},
     "output_type": "execute_result"
    }
   ],
   "source": [
    "df['Состояние'].value_counts(dropna=False)"
   ]
  },
  {
   "cell_type": "markdown",
   "metadata": {},
   "source": [
    "В данном признаке очень много значений одного типа, при этом вариантов \"Битый\" достаточно мало, поэтому удалим его"
   ]
  },
  {
   "cell_type": "code",
   "execution_count": 38,
   "metadata": {},
   "outputs": [],
   "source": [
    "df.drop(columns=['Состояние'], inplace=True)"
   ]
  },
  {
   "cell_type": "markdown",
   "metadata": {},
   "source": [
    "#### Модификация"
   ]
  },
  {
   "cell_type": "code",
   "execution_count": 39,
   "metadata": {},
   "outputs": [
    {
     "data": {
      "text/plain": [
       "Модификация\n",
       "2.0 4WD AT (150 л.с.)                      67\n",
       "2.0 AT (150 л.с.)                          58\n",
       "1.6 AT (123 л.с.)                          57\n",
       "1.6 MPI AT (110 л.с.)                      40\n",
       "2.0 MPI AT (150 л.с.)                      17\n",
       "                                           ..\n",
       "1.5 dCi 4WD MT (109 л.с.)                   1\n",
       "45 TDI 3.0 quattro Tiptronic (249 л.с.)     1\n",
       "C 220 CDI 2.2 AT (150 л.с.)                 1\n",
       "1.4 TSI 4WD DSG (150 л.с.)                  1\n",
       "2.0 4WD AT (226 л.с.)                       1\n",
       "Name: count, Length: 740, dtype: int64"
      ]
     },
     "execution_count": 39,
     "metadata": {},
     "output_type": "execute_result"
    }
   ],
   "source": [
    "df['Модификация'].value_counts(dropna=False)"
   ]
  },
  {
   "cell_type": "markdown",
   "metadata": {},
   "source": [
    "вынесем ыисло лошадиных сил отдельно, а саму модификацию оставим без изменений. воспльзуемся регулярными выражениями, чтобы выделить число лошадиных сил."
   ]
  },
  {
   "cell_type": "code",
   "execution_count": 40,
   "metadata": {},
   "outputs": [],
   "source": [
    "df['horse_power'] = df['Модификация'].apply(lambda x: int(re.search(r'\\((\\d+)\\s*л\\.с\\.\\)', x).group(1)) if re.search(r'\\((\\d+)\\s*л\\.с\\.\\)', x) else None)\n",
    "\n",
    "df['Модификация'] = df['Модификация'].apply(lambda x: re.sub(r'\\s*\\(\\d+\\s*л\\.с\\.\\)', '', x))\n",
    "df.rename(columns={'Модификация': 'modification'}, inplace=True)"
   ]
  },
  {
   "cell_type": "code",
   "execution_count": 41,
   "metadata": {},
   "outputs": [],
   "source": [
    "\n",
    "mean_horse = df['horse_power'].mean()\n",
    "\n",
    "df['horse_power'].fillna(mean_horse, inplace=True)\n",
    "df['horse_power'] = df['horse_power'].astype(int)\n"
   ]
  },
  {
   "cell_type": "code",
   "execution_count": 42,
   "metadata": {},
   "outputs": [],
   "source": [
    "df.rename(columns={'Модификация': 'modification'}, inplace=True)"
   ]
  },
  {
   "cell_type": "markdown",
   "metadata": {},
   "source": [
    "#### Объем двигателя"
   ]
  },
  {
   "cell_type": "markdown",
   "metadata": {},
   "source": [
    "видим что объем двигателя в формате float с пробелом и л, переведем просто в формат float:"
   ]
  },
  {
   "cell_type": "code",
   "execution_count": 43,
   "metadata": {},
   "outputs": [],
   "source": [
    "def get_volume(row):\n",
    "    if type(row) is str:\n",
    "        return float(row.strip().split()[0])\n",
    "    return None\n",
    "\n",
    "df['Объём двигателя'] = df['Объём двигателя'].apply(get_volume)\n"
   ]
  },
  {
   "cell_type": "markdown",
   "metadata": {},
   "source": [
    "посмотрим на число нулевых значений"
   ]
  },
  {
   "cell_type": "code",
   "execution_count": 44,
   "metadata": {},
   "outputs": [
    {
     "data": {
      "text/plain": [
       "12"
      ]
     },
     "execution_count": 44,
     "metadata": {},
     "output_type": "execute_result"
    }
   ],
   "source": [
    "df['Объём двигателя'].isna().sum()"
   ]
  },
  {
   "cell_type": "markdown",
   "metadata": {},
   "source": [
    "заполним их средним (и переименуем колонку)"
   ]
  },
  {
   "cell_type": "code",
   "execution_count": 45,
   "metadata": {},
   "outputs": [],
   "source": [
    "mean_volume = df['Объём двигателя'].mean()\n",
    "\n",
    "df['Объём двигателя'].fillna(mean_volume, inplace=True)\n",
    "df.rename(columns={'Объём двигателя':'volume'}, inplace=True)"
   ]
  },
  {
   "cell_type": "markdown",
   "metadata": {},
   "source": [
    "#### Тип двигателя"
   ]
  },
  {
   "cell_type": "code",
   "execution_count": 46,
   "metadata": {},
   "outputs": [
    {
     "data": {
      "text/plain": [
       "Тип двигателя\n",
       "Бензин     1394\n",
       "Дизель      292\n",
       "Гибрид        9\n",
       "Газ           2\n",
       "Электро       1\n",
       "Name: count, dtype: int64"
      ]
     },
     "execution_count": 46,
     "metadata": {},
     "output_type": "execute_result"
    }
   ],
   "source": [
    "df['Тип двигателя'].value_counts(dropna=False)"
   ]
  },
  {
   "cell_type": "markdown",
   "metadata": {},
   "source": [
    "Можем объединить категории Газ / Гибрид и Электро в \"другое\""
   ]
  },
  {
   "cell_type": "code",
   "execution_count": 47,
   "metadata": {},
   "outputs": [],
   "source": [
    "df['Тип двигателя'] = df['Тип двигателя'].map({'Гибрид': 'другое', 'Газ': 'другое', 'Электро':'другое',\n",
    "                                               'Бензин': 'Бензин', 'Дизель':'Дизель'})\n",
    "df['Тип двигателя'].fillna('другое', inplace=True)\n",
    "\n",
    "df.rename(columns={'Тип двигателя':'engine_type'}, inplace=True)"
   ]
  },
  {
   "cell_type": "markdown",
   "metadata": {},
   "source": [
    "#### Коробка передач"
   ]
  },
  {
   "cell_type": "code",
   "execution_count": 48,
   "metadata": {},
   "outputs": [
    {
     "data": {
      "text/plain": [
       "Коробка передач\n",
       "Автомат     1115\n",
       "Механика     294\n",
       "Робот        170\n",
       "Вариатор     119\n",
       "Name: count, dtype: int64"
      ]
     },
     "execution_count": 48,
     "metadata": {},
     "output_type": "execute_result"
    }
   ],
   "source": [
    "df['Коробка передач'].value_counts(dropna=False)"
   ]
  },
  {
   "cell_type": "markdown",
   "metadata": {},
   "source": [
    "В данном признаке объединим None в другую категорию, переименуем его только на transmission (и также сразу переименуем все следующие колонки)"
   ]
  },
  {
   "cell_type": "code",
   "execution_count": 49,
   "metadata": {},
   "outputs": [],
   "source": [
    "df['Коробка передач'].fillna('другое', inplace=True)"
   ]
  },
  {
   "cell_type": "code",
   "execution_count": 50,
   "metadata": {},
   "outputs": [],
   "source": [
    "df.rename(columns={'Коробка передач': 'transmission', 'Привод':'gear',\n",
    "                   'Комплектация': 'complete_set', 'Тип кузова': 'body', \n",
    "                   'Цвет': 'color', 'Руль': 'wheel', 'VIN или номер кузова': 'number',\n",
    "                   'Обмен':'exchange', 'Оценка':'mark', 'ДТП':'accident', 'другое_история':'other_history',\n",
    "                   'тех_история':'tech_history', 'Метро':'subway'}, inplace=True)\n"
   ]
  },
  {
   "cell_type": "markdown",
   "metadata": {},
   "source": [
    "#### Привод"
   ]
  },
  {
   "cell_type": "code",
   "execution_count": 51,
   "metadata": {},
   "outputs": [
    {
     "data": {
      "text/plain": [
       "gear\n",
       "Передний    940\n",
       "Полный      649\n",
       "Задний      109\n",
       "Name: count, dtype: int64"
      ]
     },
     "execution_count": 51,
     "metadata": {},
     "output_type": "execute_result"
    }
   ],
   "source": [
    "df['gear'].value_counts(dropna=False)"
   ]
  },
  {
   "cell_type": "markdown",
   "metadata": {},
   "source": [
    "пустые значения объединяем в категорию 'другое'"
   ]
  },
  {
   "cell_type": "code",
   "execution_count": 52,
   "metadata": {},
   "outputs": [],
   "source": [
    "df['gear'].fillna('другое', inplace=True)"
   ]
  },
  {
   "cell_type": "markdown",
   "metadata": {},
   "source": [
    "#### Комплектация"
   ]
  },
  {
   "cell_type": "code",
   "execution_count": 53,
   "metadata": {},
   "outputs": [
    {
     "data": {
      "text/plain": [
       "complete_set\n",
       "NaN                            403\n",
       "Базовая                        344\n",
       "Comfort                         57\n",
       "Base                            56\n",
       "Prestige                        36\n",
       "                              ... \n",
       "Люкс 21703-23-046                1\n",
       "Comfort Cruise                   1\n",
       "Blueefficiency Особая серия      1\n",
       "SE+ Sport                        1\n",
       "Status                           1\n",
       "Name: count, Length: 263, dtype: int64"
      ]
     },
     "execution_count": 53,
     "metadata": {},
     "output_type": "execute_result"
    }
   ],
   "source": [
    "df['complete_set'].value_counts(dropna=False)"
   ]
  },
  {
   "cell_type": "markdown",
   "metadata": {},
   "source": [
    "Очень большое число мелких значений, а число пропущенных значений больше самой крупной категории => можем удалить колонку"
   ]
  },
  {
   "cell_type": "code",
   "execution_count": 54,
   "metadata": {},
   "outputs": [
    {
     "data": {
      "text/plain": [
       "title              0\n",
       "year               0\n",
       "age                0\n",
       "run                0\n",
       "history            0\n",
       "owners_pts         0\n",
       "modification       0\n",
       "volume             0\n",
       "engine_type        0\n",
       "transmission       0\n",
       "gear               0\n",
       "complete_set     403\n",
       "body               0\n",
       "color              0\n",
       "wheel              0\n",
       "number             0\n",
       "exchange           0\n",
       "mark             209\n",
       "accident         788\n",
       "other_history    525\n",
       "tech_history     644\n",
       "sold             596\n",
       "subway            23\n",
       "pts_type           0\n",
       "price              0\n",
       "horse_power        0\n",
       "dtype: int64"
      ]
     },
     "execution_count": 54,
     "metadata": {},
     "output_type": "execute_result"
    }
   ],
   "source": [
    "df.isna().sum()"
   ]
  },
  {
   "cell_type": "code",
   "execution_count": 55,
   "metadata": {},
   "outputs": [],
   "source": [
    "df.drop(columns=['complete_set'], inplace=True)"
   ]
  },
  {
   "cell_type": "markdown",
   "metadata": {},
   "source": [
    "#### Тип кузова"
   ]
  },
  {
   "cell_type": "code",
   "execution_count": 56,
   "metadata": {},
   "outputs": [
    {
     "data": {
      "text/plain": [
       "body\n",
       "Внедорожник 5-дверный    648\n",
       "Седан                    602\n",
       "Хетчбек 5-дверный        151\n",
       "Универсал                 73\n",
       "Лифтбек                   71\n",
       "Минивэн                   68\n",
       "Фургон                    31\n",
       "Хетчбек 3-дверный         24\n",
       "Купе                      20\n",
       "Пикап                      5\n",
       "Кабриолет                  2\n",
       "Внедорожник 3-дверный      2\n",
       "Микроавтобус               1\n",
       "Name: count, dtype: int64"
      ]
     },
     "execution_count": 56,
     "metadata": {},
     "output_type": "execute_result"
    }
   ],
   "source": [
    "df['body'].value_counts(dropna=False)"
   ]
  },
  {
   "cell_type": "markdown",
   "metadata": {},
   "source": [
    "объединим часть категорий"
   ]
  },
  {
   "cell_type": "code",
   "execution_count": 57,
   "metadata": {},
   "outputs": [],
   "source": [
    "# для объединения использовался chat gpt, так как я не разбираюсь в машинах\n",
    "body_mapping = {\n",
    "    'Внедорожник 5-дверный': 'Внедорожник',\n",
    "    'Внедорожник 3-дверный': 'Внедорожник',\n",
    "    'Хетчбек 5-дверный': 'Хэтчбек',\n",
    "    'Хетчбек 3-дверный': 'Хэтчбек',\n",
    "    'Лифтбек': 'Хэтчбек',\n",
    "    'Минивэн': 'Minivan',\n",
    "    'Фургон': 'Van',\n",
    "    'Микроавтобус': 'Van'\n",
    "}\n",
    "\n",
    "# Применим объединение категорий к колонке 'body'\n",
    "df['body'] = df['body'].map(body_mapping).fillna(df['body'])\n"
   ]
  },
  {
   "cell_type": "markdown",
   "metadata": {},
   "source": [
    "#### Цвет"
   ]
  },
  {
   "cell_type": "code",
   "execution_count": 58,
   "metadata": {},
   "outputs": [
    {
     "data": {
      "text/plain": [
       "color\n",
       "Чёрный        536\n",
       "Белый         382\n",
       "Серый         233\n",
       "Серебряный    136\n",
       "Синий         113\n",
       "Коричневый    107\n",
       "Красный        63\n",
       "Зелёный        34\n",
       "Бежевый        24\n",
       "Голубой        14\n",
       "Оранжевый      13\n",
       "Бордовый       13\n",
       "Жёлтый         11\n",
       "Золотой         7\n",
       "Фиолетовый      6\n",
       "Пурпурный       6\n",
       "Name: count, dtype: int64"
      ]
     },
     "execution_count": 58,
     "metadata": {},
     "output_type": "execute_result"
    }
   ],
   "source": [
    "df['color'].value_counts(dropna=False)"
   ]
  },
  {
   "cell_type": "markdown",
   "metadata": {},
   "source": [
    "объединим мелкие категории цветов (меньше 15)"
   ]
  },
  {
   "cell_type": "code",
   "execution_count": 59,
   "metadata": {},
   "outputs": [],
   "source": [
    "color_mapping = {\n",
    "    'Чёрный': 'Чёрный',\n",
    "    'Белый': 'Белый',\n",
    "    'Серый': 'Серый',\n",
    "    'Серебряный': 'Серебряный',\n",
    "    'Синий': 'Синий',\n",
    "    'Коричневый': 'Коричневый',\n",
    "    'Красный': 'Красный',\n",
    "    'Зелёный': 'Зелёный',\n",
    "    'Бежевый': 'Бежевый',\n",
    "    'Голубой': 'Другой',\n",
    "    'Оранжевый': 'Другой',\n",
    "    'Бордовый': 'Другой',\n",
    "    'Жёлтый': 'Другой',\n",
    "    'Золотой': 'Другой',\n",
    "    'Фиолетовый': 'Другой',\n",
    "    'Пурпурный': 'Другой'\n",
    "}\n",
    "\n",
    "\n",
    "df['color'] = df['color'].map(color_mapping).fillna('Другой')"
   ]
  },
  {
   "cell_type": "markdown",
   "metadata": {},
   "source": [
    "#### Руль"
   ]
  },
  {
   "cell_type": "code",
   "execution_count": 60,
   "metadata": {},
   "outputs": [
    {
     "data": {
      "text/plain": [
       "wheel\n",
       "Левый     1676\n",
       "Правый      22\n",
       "Name: count, dtype: int64"
      ]
     },
     "execution_count": 60,
     "metadata": {},
     "output_type": "execute_result"
    }
   ],
   "source": [
    "df['wheel'].value_counts(dropna=False)"
   ]
  },
  {
   "cell_type": "markdown",
   "metadata": {},
   "source": [
    "все хорошо с данной колонкой"
   ]
  },
  {
   "cell_type": "markdown",
   "metadata": {},
   "source": [
    "#### VIN или номер кузова"
   ]
  },
  {
   "cell_type": "code",
   "execution_count": 61,
   "metadata": {},
   "outputs": [
    {
     "data": {
      "text/plain": [
       "number\n",
       "XW8Z*************    54\n",
       "Z94C*************    50\n",
       "XWEG*************    46\n",
       "WVWZ*************    45\n",
       "XWEP*************    45\n",
       "                     ..\n",
       "TMBL*************     1\n",
       "WF0E*************     1\n",
       "WBAY*************     1\n",
       "5UXZ*************     1\n",
       "LS4A*************     1\n",
       "Name: count, Length: 452, dtype: int64"
      ]
     },
     "execution_count": 61,
     "metadata": {},
     "output_type": "execute_result"
    }
   ],
   "source": [
    "df['number'].value_counts(dropna=False)"
   ]
  },
  {
   "cell_type": "markdown",
   "metadata": {},
   "source": [
    "Номер кузова сам по себе не несет логический смысл, поётому можем удалить данную колонку"
   ]
  },
  {
   "cell_type": "code",
   "execution_count": 62,
   "metadata": {},
   "outputs": [],
   "source": [
    "df.drop(columns=['number'], inplace=True)"
   ]
  },
  {
   "cell_type": "markdown",
   "metadata": {},
   "source": [
    "#### Обмен"
   ]
  },
  {
   "cell_type": "code",
   "execution_count": 63,
   "metadata": {},
   "outputs": [
    {
     "data": {
      "text/plain": [
       "exchange\n",
       "Не интересует    684\n",
       "Возможен         636\n",
       "0                378\n",
       "Name: count, dtype: int64"
      ]
     },
     "execution_count": 63,
     "metadata": {},
     "output_type": "execute_result"
    }
   ],
   "source": [
    "df['exchange'].value_counts(dropna=False)"
   ]
  },
  {
   "cell_type": "markdown",
   "metadata": {},
   "source": [
    "переименуем значение 0 в другое"
   ]
  },
  {
   "cell_type": "code",
   "execution_count": 64,
   "metadata": {},
   "outputs": [],
   "source": [
    "df['exchange'] = df['exchange'].map({'Не интересует': 'Не интересует', '0': 'другое', 'Возможен':'Возможен'})\n"
   ]
  },
  {
   "cell_type": "markdown",
   "metadata": {},
   "source": [
    "#### Оценка"
   ]
  },
  {
   "cell_type": "code",
   "execution_count": 65,
   "metadata": {},
   "outputs": [
    {
     "data": {
      "text/plain": [
       "mark\n",
       "NaN                                         209\n",
       "899 000 ₽ — цена ниже Авито Оценки           17\n",
       "1 099 000 ₽ — цена ниже Авито Оценки         12\n",
       "1 199 000 ₽ — цена ниже Авито Оценки         12\n",
       "799 000 ₽ — цена ниже Авито Оценки           11\n",
       "                                           ... \n",
       "1 165 000 ₽ — цена выше Авито Оценки          1\n",
       "195 000 ₽ — цена выше Авито Оценки            1\n",
       "2 840 000 ₽ — цена выше Авито Оценки          1\n",
       "1 030 000 ₽ — соответствует оценке Авито      1\n",
       "1 155 000 ₽ — соответствует оценке Авито      1\n",
       "Name: count, Length: 850, dtype: int64"
      ]
     },
     "execution_count": 65,
     "metadata": {},
     "output_type": "execute_result"
    }
   ],
   "source": [
    "df['mark'].value_counts(dropna=False)"
   ]
  },
  {
   "cell_type": "markdown",
   "metadata": {},
   "source": [
    "\n",
    "из данной колонки мы хотим получить значение ниже / выше / соответствует оценки"
   ]
  },
  {
   "cell_type": "code",
   "execution_count": 66,
   "metadata": {},
   "outputs": [],
   "source": [
    "df['mark'].fillna('нет оценки', inplace=True)\n",
    "\n",
    "\n",
    "def categorize_mark(value):\n",
    "    if 'ниже' in value:\n",
    "        return 'ниже'\n",
    "    elif 'выше' in value:\n",
    "        return 'выше'\n",
    "    elif 'соответствует' in value:\n",
    "        return 'соответствует'\n",
    "    else:\n",
    "        return value  \n",
    "\n",
    "df['mark'] = df['mark'].apply(categorize_mark)"
   ]
  },
  {
   "cell_type": "markdown",
   "metadata": {},
   "source": [
    "#### ДТП"
   ]
  },
  {
   "cell_type": "code",
   "execution_count": 67,
   "metadata": {},
   "outputs": [
    {
     "data": {
      "text/plain": [
       "accident\n",
       "ДТП не найдены    910\n",
       "NaN               788\n",
       "Name: count, dtype: int64"
      ]
     },
     "execution_count": 67,
     "metadata": {},
     "output_type": "execute_result"
    }
   ],
   "source": [
    "df['accident'].value_counts(dropna=False)"
   ]
  },
  {
   "cell_type": "markdown",
   "metadata": {},
   "source": [
    "Данную колонку сделаем бинарной, где если ДТП не найдены будет значение 1, Nan – 0"
   ]
  },
  {
   "cell_type": "code",
   "execution_count": 68,
   "metadata": {},
   "outputs": [],
   "source": [
    "df['accident'].fillna(0, inplace=True)\n",
    "df['accident'] = df['accident'].map({'ДТП не найдены':1, 0:0})"
   ]
  },
  {
   "cell_type": "markdown",
   "metadata": {},
   "source": [
    "#### другое_история"
   ]
  },
  {
   "cell_type": "code",
   "execution_count": 69,
   "metadata": {},
   "outputs": [
    {
     "data": {
      "text/plain": [
       "other_history\n",
       "NaN                     525\n",
       "1 владелец по ПТС       471\n",
       "2 владельца по ПТС      291\n",
       "3 владельца по ПТС      177\n",
       "4 владельца по ПТС       74\n",
       "5 владельцев по ПТС      59\n",
       "6 владельцев по ПТС      37\n",
       "7 владельцев по ПТС      20\n",
       "8 владельцев по ПТС      18\n",
       "9 владельцев по ПТС      10\n",
       "10 владельцев по ПТС      9\n",
       "13 владельцев по ПТС      3\n",
       "12 владельцев по ПТС      1\n",
       "14 владельцев по ПТС      1\n",
       "15 владельцев по ПТС      1\n",
       "11 владельцев по ПТС      1\n",
       "Name: count, dtype: int64"
      ]
     },
     "execution_count": 69,
     "metadata": {},
     "output_type": "execute_result"
    }
   ],
   "source": [
    "df['other_history'].value_counts(dropna=False)"
   ]
  },
  {
   "cell_type": "markdown",
   "metadata": {},
   "source": [
    "Выберем отсюда число владельцев\n"
   ]
  },
  {
   "cell_type": "markdown",
   "metadata": {},
   "source": [
    "#### тех_история"
   ]
  },
  {
   "cell_type": "code",
   "execution_count": 70,
   "metadata": {},
   "outputs": [
    {
     "data": {
      "text/plain": [
       "tech_history\n",
       "NaN                             644\n",
       "1 запись с описанием работ      203\n",
       "2 записи с описанием работ      126\n",
       "3 записи с описанием работ       84\n",
       "4 записи с описанием работ       76\n",
       "5 записей с описанием работ      63\n",
       "8 записей с описанием работ      54\n",
       "6 записей с описанием работ      53\n",
       "7 записей с описанием работ      49\n",
       "9 записей с описанием работ      47\n",
       "11 записей с описанием работ     33\n",
       "12 записей с описанием работ     30\n",
       "10 записей с описанием работ     28\n",
       "13 записей с описанием работ     24\n",
       "14 записей с описанием работ     21\n",
       "17 записей с описанием работ     15\n",
       "18 записей с описанием работ     15\n",
       "15 записей с описанием работ     14\n",
       "16 записей с описанием работ     13\n",
       "19 записей с описанием работ     10\n",
       "28 записей с описанием работ      8\n",
       "27 записей с описанием работ      8\n",
       "20 записей с описанием работ      8\n",
       "21 запись с описанием работ       7\n",
       "25 записей с описанием работ      6\n",
       "22 записи с описанием работ       6\n",
       "26 записей с описанием работ      5\n",
       "30 записей с описанием работ      5\n",
       "31 запись с описанием работ       4\n",
       "38 записей с описанием работ      4\n",
       "23 записи с описанием работ       4\n",
       "35 записей с описанием работ      4\n",
       "24 записи с описанием работ       3\n",
       "39 записей с описанием работ      2\n",
       "36 записей с описанием работ      2\n",
       "34 записи с описанием работ       2\n",
       "29 записей с описанием работ      2\n",
       "47 записей с описанием работ      2\n",
       "37 записей с описанием работ      2\n",
       "43 записи с описанием работ       1\n",
       "32 записи с описанием работ       1\n",
       "66 записей с описанием работ      1\n",
       "44 записи с описанием работ       1\n",
       "86 записей с описанием работ      1\n",
       "46 записей с описанием работ      1\n",
       "58 записей с описанием работ      1\n",
       "60 записей с описанием работ      1\n",
       "51 запись с описанием работ       1\n",
       "45 записей с описанием работ      1\n",
       "41 запись с описанием работ       1\n",
       "33 записи с описанием работ       1\n",
       "Name: count, dtype: int64"
      ]
     },
     "execution_count": 70,
     "metadata": {},
     "output_type": "execute_result"
    }
   ],
   "source": [
    "df['tech_history'].value_counts(dropna=False)"
   ]
  },
  {
   "cell_type": "markdown",
   "metadata": {},
   "source": [
    "Выберем число записей с описанием работ"
   ]
  },
  {
   "cell_type": "markdown",
   "metadata": {},
   "source": [
    "#### sold"
   ]
  },
  {
   "cell_type": "code",
   "execution_count": 71,
   "metadata": {},
   "outputs": [
    {
     "data": {
      "text/plain": [
       "sold\n",
       "NaN                           596\n",
       "1 раз продавался на Авито     431\n",
       "2 раза продавался на Авито    281\n",
       "3 раза продавался на Авито    156\n",
       "4 раза продавался на Авито    108\n",
       "5 раз продавался на Авито      61\n",
       "6 раз продавался на Авито      24\n",
       "7 раз продавался на Авито      20\n",
       "8 раз продавался на Авито      13\n",
       "10 раз продавался на Авито      3\n",
       "12 раз продавался на Авито      2\n",
       "11 раз продавался на Авито      2\n",
       "9 раз продавался на Авито       1\n",
       "Name: count, dtype: int64"
      ]
     },
     "execution_count": 71,
     "metadata": {},
     "output_type": "execute_result"
    }
   ],
   "source": [
    "df['sold'].value_counts(dropna=False)"
   ]
  },
  {
   "cell_type": "markdown",
   "metadata": {},
   "source": [
    "Можем заметить, что в признаках sold, тех история и лругое история одинаковый тип обработки – нам надо взять число и заполнить nan медианой (так как среднее может давать смещение из-за большого числа пустых значений). Также вспомним, что мы уже писали такую функцию для объёема двигателя (get_volume), можем ее использовать снова."
   ]
  },
  {
   "cell_type": "code",
   "execution_count": 72,
   "metadata": {},
   "outputs": [
    {
     "name": "stderr",
     "output_type": "stream",
     "text": [
      "/usr/local/anaconda3/lib/python3.10/site-packages/sklearn/utils/validation.py:767: FutureWarning:\n",
      "\n",
      "is_sparse is deprecated and will be removed in a future version. Check `isinstance(dtype, pd.SparseDtype)` instead.\n",
      "\n",
      "/usr/local/anaconda3/lib/python3.10/site-packages/sklearn/utils/validation.py:605: FutureWarning:\n",
      "\n",
      "is_sparse is deprecated and will be removed in a future version. Check `isinstance(dtype, pd.SparseDtype)` instead.\n",
      "\n",
      "/usr/local/anaconda3/lib/python3.10/site-packages/sklearn/utils/validation.py:614: FutureWarning:\n",
      "\n",
      "is_sparse is deprecated and will be removed in a future version. Check `isinstance(dtype, pd.SparseDtype)` instead.\n",
      "\n",
      "/usr/local/anaconda3/lib/python3.10/site-packages/sklearn/utils/validation.py:767: FutureWarning:\n",
      "\n",
      "is_sparse is deprecated and will be removed in a future version. Check `isinstance(dtype, pd.SparseDtype)` instead.\n",
      "\n",
      "/usr/local/anaconda3/lib/python3.10/site-packages/sklearn/utils/validation.py:605: FutureWarning:\n",
      "\n",
      "is_sparse is deprecated and will be removed in a future version. Check `isinstance(dtype, pd.SparseDtype)` instead.\n",
      "\n",
      "/usr/local/anaconda3/lib/python3.10/site-packages/sklearn/utils/validation.py:614: FutureWarning:\n",
      "\n",
      "is_sparse is deprecated and will be removed in a future version. Check `isinstance(dtype, pd.SparseDtype)` instead.\n",
      "\n"
     ]
    }
   ],
   "source": [
    "df['sold'] = df['sold'].apply(get_volume)\n",
    "df['other_history'] = df['other_history'].apply(get_volume)\n",
    "df['tech_history'] = df['tech_history'].apply(get_volume)\n",
    "\n",
    "imputer = SimpleImputer(strategy='median')\n",
    "\n",
    "\n",
    "columns_to_impute = ['sold', 'other_history', 'tech_history']\n",
    "\n",
    "df[columns_to_impute] = imputer.fit_transform(df[columns_to_impute])\n",
    "\n",
    "\n",
    "df[columns_to_impute] = df[columns_to_impute].astype(int)\n"
   ]
  },
  {
   "cell_type": "markdown",
   "metadata": {},
   "source": [
    "#### Метро"
   ]
  },
  {
   "cell_type": "code",
   "execution_count": 73,
   "metadata": {},
   "outputs": [
    {
     "data": {
      "text/plain": [
       "subway\n",
       "Аннино:6–10 мин.;Лесопарковая:11–15 мин.;Улица Старокачаловская:21–30 мин.    73\n",
       "Царицыно:от 31 мин.;Пражская:от 31 мин.;Кантемировская:от 31 мин.             65\n",
       "Южная:11–15 мин.;Чертановская:21–30 мин.;Пражская:21–30 мин.                  62\n",
       "Улица академика Янгеля:до 5 мин.;Аннино:11–15 мин.;Лесопарковая:21–30 мин.    62\n",
       "Варшавская:до 5 мин.;Каховская:16–20 мин.;Чертановская:21–30 мин.             60\n",
       "                                                                              ..\n",
       "Семёновская:21–30 мин.;Шоссе Энтузиастов:21–30 мин.;Измайлово:21–30 мин.       1\n",
       "Озёрная:16–20 мин.;Юго-Западная:16–20 мин.;Мичуринский проспект:21–30 мин.     1\n",
       "Саларьево:11–15 мин.;Филатов луг:от 31 мин.;Румянцево:от 31 мин.               1\n",
       "Марксистская:11–15 мин.;Таганская:11–15 мин.;Площадь Ильича:11–15 мин.         1\n",
       "Автозаводская:до 5 мин.;ЗИЛ:16–20 мин.;Дубровка:21–30 мин.                     1\n",
       "Name: count, Length: 519, dtype: int64"
      ]
     },
     "execution_count": 73,
     "metadata": {},
     "output_type": "execute_result"
    }
   ],
   "source": [
    "df['subway'].value_counts(dropna=False)"
   ]
  },
  {
   "cell_type": "markdown",
   "metadata": {},
   "source": [
    "#### price"
   ]
  },
  {
   "cell_type": "code",
   "execution_count": 74,
   "metadata": {},
   "outputs": [
    {
     "data": {
      "text/plain": [
       "price\n",
       "899 000 ₽      24\n",
       "1 099 000 ₽    24\n",
       "1 199 000 ₽    21\n",
       "999 000 ₽      20\n",
       "1 295 000 ₽    20\n",
       "               ..\n",
       "5 250 000 ₽     1\n",
       "3 680 000 ₽     1\n",
       "1 648 000 ₽     1\n",
       "2 100 000 ₽     1\n",
       "1 155 000 ₽     1\n",
       "Name: count, Length: 623, dtype: int64"
      ]
     },
     "execution_count": 74,
     "metadata": {},
     "output_type": "execute_result"
    }
   ],
   "source": [
    "df['price'].value_counts(dropna=False)"
   ]
  },
  {
   "cell_type": "markdown",
   "metadata": {},
   "source": [
    "Надо привести в числовой формат и убрать знак рубля в конце"
   ]
  },
  {
   "cell_type": "code",
   "execution_count": 75,
   "metadata": {},
   "outputs": [],
   "source": [
    "df['price'] = df['price'].apply(lambda row: int(row.replace(' ', '').replace('₽', '')))"
   ]
  },
  {
   "cell_type": "markdown",
   "metadata": {},
   "source": [
    "'Complete set',\n",
    "       'Body Type', 'Color', 'Steering Wheel', 'VIN or Body number', 'Exchange', 'Rating',\n",
    "       'Accident', 'other_history', 'tech_history', 'sold', 'Metro', 'pts_type',\n",
    "       'price'"
   ]
  },
  {
   "cell_type": "code",
   "execution_count": null,
   "metadata": {},
   "outputs": [],
   "source": []
  },
  {
   "cell_type": "code",
   "execution_count": 76,
   "metadata": {},
   "outputs": [
    {
     "data": {
      "text/html": [
       "<div>\n",
       "<style scoped>\n",
       "    .dataframe tbody tr th:only-of-type {\n",
       "        vertical-align: middle;\n",
       "    }\n",
       "\n",
       "    .dataframe tbody tr th {\n",
       "        vertical-align: top;\n",
       "    }\n",
       "\n",
       "    .dataframe thead th {\n",
       "        text-align: right;\n",
       "    }\n",
       "</style>\n",
       "<table border=\"1\" class=\"dataframe\">\n",
       "  <thead>\n",
       "    <tr style=\"text-align: right;\">\n",
       "      <th></th>\n",
       "      <th>title</th>\n",
       "      <th>year</th>\n",
       "      <th>age</th>\n",
       "      <th>run</th>\n",
       "      <th>history</th>\n",
       "      <th>owners_pts</th>\n",
       "      <th>modification</th>\n",
       "      <th>volume</th>\n",
       "      <th>engine_type</th>\n",
       "      <th>transmission</th>\n",
       "      <th>...</th>\n",
       "      <th>exchange</th>\n",
       "      <th>mark</th>\n",
       "      <th>accident</th>\n",
       "      <th>other_history</th>\n",
       "      <th>tech_history</th>\n",
       "      <th>sold</th>\n",
       "      <th>subway</th>\n",
       "      <th>pts_type</th>\n",
       "      <th>price</th>\n",
       "      <th>horse_power</th>\n",
       "    </tr>\n",
       "  </thead>\n",
       "  <tbody>\n",
       "    <tr>\n",
       "      <th>0</th>\n",
       "      <td>Kia K900 3.3 AT</td>\n",
       "      <td>2019</td>\n",
       "      <td>II</td>\n",
       "      <td>91037</td>\n",
       "      <td>8.0</td>\n",
       "      <td>2</td>\n",
       "      <td>3.3 4WD AT</td>\n",
       "      <td>3.3</td>\n",
       "      <td>Бензин</td>\n",
       "      <td>Автомат</td>\n",
       "      <td>...</td>\n",
       "      <td>Возможен</td>\n",
       "      <td>соответствует</td>\n",
       "      <td>1</td>\n",
       "      <td>2</td>\n",
       "      <td>4</td>\n",
       "      <td>1</td>\n",
       "      <td>Аннино:6–10 мин.;Лесопарковая:11–15 мин.;Улица...</td>\n",
       "      <td>Другое</td>\n",
       "      <td>2999000</td>\n",
       "      <td>249</td>\n",
       "    </tr>\n",
       "    <tr>\n",
       "      <th>1</th>\n",
       "      <td>Mercedes-Benz V-класс 2.1 AT</td>\n",
       "      <td>2017</td>\n",
       "      <td>W447</td>\n",
       "      <td>95250</td>\n",
       "      <td>19.0</td>\n",
       "      <td>2</td>\n",
       "      <td>V 250 d 2.1 4MATIC AT L3</td>\n",
       "      <td>2.1</td>\n",
       "      <td>Дизель</td>\n",
       "      <td>Автомат</td>\n",
       "      <td>...</td>\n",
       "      <td>Не интересует</td>\n",
       "      <td>соответствует</td>\n",
       "      <td>0</td>\n",
       "      <td>2</td>\n",
       "      <td>19</td>\n",
       "      <td>2</td>\n",
       "      <td>Проспект Вернадского:до 5 мин.;Новаторская:16–...</td>\n",
       "      <td>Оригинал</td>\n",
       "      <td>5650000</td>\n",
       "      <td>190</td>\n",
       "    </tr>\n",
       "    <tr>\n",
       "      <th>2</th>\n",
       "      <td>Opel Astra GTC 1.4 AT</td>\n",
       "      <td>2013</td>\n",
       "      <td>J рестайлинг</td>\n",
       "      <td>113000</td>\n",
       "      <td>6.0</td>\n",
       "      <td>2</td>\n",
       "      <td>1.4 Turbo AT</td>\n",
       "      <td>1.4</td>\n",
       "      <td>Бензин</td>\n",
       "      <td>Автомат</td>\n",
       "      <td>...</td>\n",
       "      <td>Возможен</td>\n",
       "      <td>ниже</td>\n",
       "      <td>1</td>\n",
       "      <td>2</td>\n",
       "      <td>5</td>\n",
       "      <td>3</td>\n",
       "      <td>Южная:11–15 мин.;Чертановская:21–30 мин.;Пражс...</td>\n",
       "      <td>Другое</td>\n",
       "      <td>699000</td>\n",
       "      <td>140</td>\n",
       "    </tr>\n",
       "    <tr>\n",
       "      <th>3</th>\n",
       "      <td>Volkswagen Tiguan 2.0 AT</td>\n",
       "      <td>2015</td>\n",
       "      <td>I рестайлинг</td>\n",
       "      <td>165000</td>\n",
       "      <td>9.0</td>\n",
       "      <td>2</td>\n",
       "      <td>2.0 TDI 4Motion AT</td>\n",
       "      <td>2.0</td>\n",
       "      <td>Дизель</td>\n",
       "      <td>Автомат</td>\n",
       "      <td>...</td>\n",
       "      <td>Возможен</td>\n",
       "      <td>ниже</td>\n",
       "      <td>0</td>\n",
       "      <td>2</td>\n",
       "      <td>5</td>\n",
       "      <td>1</td>\n",
       "      <td>Волоколамская:16–20 мин.;Мякинино:от 31 мин.;Т...</td>\n",
       "      <td>Другое</td>\n",
       "      <td>1195000</td>\n",
       "      <td>140</td>\n",
       "    </tr>\n",
       "    <tr>\n",
       "      <th>4</th>\n",
       "      <td>Ford Kuga 1.5 AT</td>\n",
       "      <td>2018</td>\n",
       "      <td>II рестайлинг</td>\n",
       "      <td>103000</td>\n",
       "      <td>16.0</td>\n",
       "      <td>1</td>\n",
       "      <td>1.5 EcoBoost 4WD AT</td>\n",
       "      <td>1.5</td>\n",
       "      <td>Бензин</td>\n",
       "      <td>Автомат</td>\n",
       "      <td>...</td>\n",
       "      <td>другое</td>\n",
       "      <td>соответствует</td>\n",
       "      <td>0</td>\n",
       "      <td>1</td>\n",
       "      <td>10</td>\n",
       "      <td>1</td>\n",
       "      <td>Ховрино:до 5 мин.;Беломорская:21–30 мин.;Речно...</td>\n",
       "      <td>Оригинал</td>\n",
       "      <td>1780000</td>\n",
       "      <td>150</td>\n",
       "    </tr>\n",
       "  </tbody>\n",
       "</table>\n",
       "<p>5 rows × 24 columns</p>\n",
       "</div>"
      ],
      "text/plain": [
       "                          title  year            age     run  history  \\\n",
       "0               Kia K900 3.3 AT  2019             II   91037      8.0   \n",
       "1  Mercedes-Benz V-класс 2.1 AT  2017           W447   95250     19.0   \n",
       "2         Opel Astra GTC 1.4 AT  2013   J рестайлинг  113000      6.0   \n",
       "3      Volkswagen Tiguan 2.0 AT  2015   I рестайлинг  165000      9.0   \n",
       "4              Ford Kuga 1.5 AT  2018  II рестайлинг  103000     16.0   \n",
       "\n",
       "  owners_pts              modification  volume engine_type transmission  ...  \\\n",
       "0          2                3.3 4WD AT     3.3      Бензин      Автомат  ...   \n",
       "1          2  V 250 d 2.1 4MATIC AT L3     2.1      Дизель      Автомат  ...   \n",
       "2          2              1.4 Turbo AT     1.4      Бензин      Автомат  ...   \n",
       "3          2        2.0 TDI 4Motion AT     2.0      Дизель      Автомат  ...   \n",
       "4          1       1.5 EcoBoost 4WD AT     1.5      Бензин      Автомат  ...   \n",
       "\n",
       "        exchange           mark accident other_history tech_history sold  \\\n",
       "0       Возможен  соответствует        1             2            4    1   \n",
       "1  Не интересует  соответствует        0             2           19    2   \n",
       "2       Возможен           ниже        1             2            5    3   \n",
       "3       Возможен           ниже        0             2            5    1   \n",
       "4         другое  соответствует        0             1           10    1   \n",
       "\n",
       "                                              subway  pts_type    price  \\\n",
       "0  Аннино:6–10 мин.;Лесопарковая:11–15 мин.;Улица...    Другое  2999000   \n",
       "1  Проспект Вернадского:до 5 мин.;Новаторская:16–...  Оригинал  5650000   \n",
       "2  Южная:11–15 мин.;Чертановская:21–30 мин.;Пражс...    Другое   699000   \n",
       "3  Волоколамская:16–20 мин.;Мякинино:от 31 мин.;Т...    Другое  1195000   \n",
       "4  Ховрино:до 5 мин.;Беломорская:21–30 мин.;Речно...  Оригинал  1780000   \n",
       "\n",
       "   horse_power  \n",
       "0          249  \n",
       "1          190  \n",
       "2          140  \n",
       "3          140  \n",
       "4          150  \n",
       "\n",
       "[5 rows x 24 columns]"
      ]
     },
     "execution_count": 76,
     "metadata": {},
     "output_type": "execute_result"
    }
   ],
   "source": [
    "df.head(5)"
   ]
  },
  {
   "cell_type": "code",
   "execution_count": 77,
   "metadata": {},
   "outputs": [
    {
     "data": {
      "text/plain": [
       "title             0\n",
       "year              0\n",
       "age               0\n",
       "run               0\n",
       "history           0\n",
       "owners_pts        0\n",
       "modification      0\n",
       "volume            0\n",
       "engine_type       0\n",
       "transmission      0\n",
       "gear              0\n",
       "body              0\n",
       "color             0\n",
       "wheel             0\n",
       "exchange          0\n",
       "mark              0\n",
       "accident          0\n",
       "other_history     0\n",
       "tech_history      0\n",
       "sold              0\n",
       "subway           23\n",
       "pts_type          0\n",
       "price             0\n",
       "horse_power       0\n",
       "dtype: int64"
      ]
     },
     "execution_count": 77,
     "metadata": {},
     "output_type": "execute_result"
    }
   ],
   "source": [
    "df.isna().sum()"
   ]
  },
  {
   "cell_type": "code",
   "execution_count": 78,
   "metadata": {},
   "outputs": [
    {
     "name": "stdout",
     "output_type": "stream",
     "text": [
      "<class 'pandas.core.frame.DataFrame'>\n",
      "Index: 1698 entries, 0 to 1803\n",
      "Data columns (total 24 columns):\n",
      " #   Column         Non-Null Count  Dtype  \n",
      "---  ------         --------------  -----  \n",
      " 0   title          1698 non-null   object \n",
      " 1   year           1698 non-null   int64  \n",
      " 2   age            1698 non-null   object \n",
      " 3   run            1698 non-null   int64  \n",
      " 4   history        1698 non-null   float64\n",
      " 5   owners_pts     1698 non-null   object \n",
      " 6   modification   1698 non-null   object \n",
      " 7   volume         1698 non-null   float64\n",
      " 8   engine_type    1698 non-null   object \n",
      " 9   transmission   1698 non-null   object \n",
      " 10  gear           1698 non-null   object \n",
      " 11  body           1698 non-null   object \n",
      " 12  color          1698 non-null   object \n",
      " 13  wheel          1698 non-null   object \n",
      " 14  exchange       1698 non-null   object \n",
      " 15  mark           1698 non-null   object \n",
      " 16  accident       1698 non-null   int64  \n",
      " 17  other_history  1698 non-null   int64  \n",
      " 18  tech_history   1698 non-null   int64  \n",
      " 19  sold           1698 non-null   int64  \n",
      " 20  subway         1675 non-null   object \n",
      " 21  pts_type       1698 non-null   object \n",
      " 22  price          1698 non-null   int64  \n",
      " 23  horse_power    1698 non-null   int64  \n",
      "dtypes: float64(2), int64(8), object(14)\n",
      "memory usage: 331.6+ KB\n"
     ]
    }
   ],
   "source": [
    "df.info()"
   ]
  },
  {
   "cell_type": "markdown",
   "metadata": {},
   "source": [
    "### Сохранение результатов"
   ]
  },
  {
   "cell_type": "markdown",
   "metadata": {},
   "source": [
    "Итого получилось 1698 строк и 22 признака. Сбросим индексы и сохраним результат"
   ]
  },
  {
   "cell_type": "code",
   "execution_count": 79,
   "metadata": {},
   "outputs": [],
   "source": [
    "df.reset_index(drop=True, inplace=True)"
   ]
  },
  {
   "cell_type": "code",
   "execution_count": 80,
   "metadata": {},
   "outputs": [],
   "source": [
    "df.to_csv('datasets/clear_dataset.csv')"
   ]
  },
  {
   "cell_type": "code",
   "execution_count": null,
   "metadata": {},
   "outputs": [],
   "source": []
  }
 ],
 "metadata": {
  "hide_input": false,
  "kernelspec": {
   "display_name": "Python 3 (ipykernel)",
   "language": "python",
   "name": "python3"
  },
  "language_info": {
   "codemirror_mode": {
    "name": "ipython",
    "version": 3
   },
   "file_extension": ".py",
   "mimetype": "text/x-python",
   "name": "python",
   "nbconvert_exporter": "python",
   "pygments_lexer": "ipython3",
   "version": "3.10.12"
  },
  "toc": {
   "base_numbering": 1,
   "nav_menu": {},
   "number_sections": true,
   "sideBar": true,
   "skip_h1_title": false,
   "title_cell": "Table of Contents",
   "title_sidebar": "Contents",
   "toc_cell": false,
   "toc_position": {},
   "toc_section_display": true,
   "toc_window_display": false
  },
  "varInspector": {
   "cols": {
    "lenName": 16,
    "lenType": 16,
    "lenVar": 40
   },
   "kernels_config": {
    "python": {
     "delete_cmd_postfix": "",
     "delete_cmd_prefix": "del ",
     "library": "var_list.py",
     "varRefreshCmd": "print(var_dic_list())"
    },
    "r": {
     "delete_cmd_postfix": ") ",
     "delete_cmd_prefix": "rm(",
     "library": "var_list.r",
     "varRefreshCmd": "cat(var_dic_list()) "
    }
   },
   "types_to_exclude": [
    "module",
    "function",
    "builtin_function_or_method",
    "instance",
    "_Feature"
   ],
   "window_display": false
  }
 },
 "nbformat": 4,
 "nbformat_minor": 2
}
